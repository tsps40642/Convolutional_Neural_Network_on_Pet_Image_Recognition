{
 "cells": [
  {
   "cell_type": "markdown",
   "metadata": {},
   "source": [
    "# Generate training and testing sets in Google Colab\n",
    "(I prepare the training and testing sets through Google Colab since I want to save the GPU in kaggle for model training.)"
   ]
  },
  {
   "cell_type": "code",
   "execution_count": null,
   "metadata": {
    "id": "n7fBcnZTVTrh"
   },
   "outputs": [],
   "source": [
    "# Easiest way to download kaggle data in Google Colab: https://www.kaggle.com/discussions/general/74235\n",
    "\n",
    "# 1. Go to your account, Scroll to API section and Click Expire API Token to remove previous tokens\n",
    "# 2. Click on Create New API Token - It will download kaggle.json file on your machine\n",
    "# 3. Go to your Google Colab project file and run the following commands"
   ]
  },
  {
   "cell_type": "code",
   "execution_count": 1,
   "metadata": {
    "colab": {
     "base_uri": "https://localhost:8080/",
     "height": 92
    },
    "id": "OhzHN9CJyaQC",
    "outputId": "3b126e5c-1e23-448d-b388-30287cdc3851"
   },
   "outputs": [
    {
     "data": {
      "text/html": [
       "\n",
       "     <input type=\"file\" id=\"files-63114da0-31bc-42c9-9036-99adf39547d9\" name=\"files[]\" multiple disabled\n",
       "        style=\"border:none\" />\n",
       "     <output id=\"result-63114da0-31bc-42c9-9036-99adf39547d9\">\n",
       "      Upload widget is only available when the cell has been executed in the\n",
       "      current browser session. Please rerun this cell to enable.\n",
       "      </output>\n",
       "      <script>// Copyright 2017 Google LLC\n",
       "//\n",
       "// Licensed under the Apache License, Version 2.0 (the \"License\");\n",
       "// you may not use this file except in compliance with the License.\n",
       "// You may obtain a copy of the License at\n",
       "//\n",
       "//      http://www.apache.org/licenses/LICENSE-2.0\n",
       "//\n",
       "// Unless required by applicable law or agreed to in writing, software\n",
       "// distributed under the License is distributed on an \"AS IS\" BASIS,\n",
       "// WITHOUT WARRANTIES OR CONDITIONS OF ANY KIND, either express or implied.\n",
       "// See the License for the specific language governing permissions and\n",
       "// limitations under the License.\n",
       "\n",
       "/**\n",
       " * @fileoverview Helpers for google.colab Python module.\n",
       " */\n",
       "(function(scope) {\n",
       "function span(text, styleAttributes = {}) {\n",
       "  const element = document.createElement('span');\n",
       "  element.textContent = text;\n",
       "  for (const key of Object.keys(styleAttributes)) {\n",
       "    element.style[key] = styleAttributes[key];\n",
       "  }\n",
       "  return element;\n",
       "}\n",
       "\n",
       "// Max number of bytes which will be uploaded at a time.\n",
       "const MAX_PAYLOAD_SIZE = 100 * 1024;\n",
       "\n",
       "function _uploadFiles(inputId, outputId) {\n",
       "  const steps = uploadFilesStep(inputId, outputId);\n",
       "  const outputElement = document.getElementById(outputId);\n",
       "  // Cache steps on the outputElement to make it available for the next call\n",
       "  // to uploadFilesContinue from Python.\n",
       "  outputElement.steps = steps;\n",
       "\n",
       "  return _uploadFilesContinue(outputId);\n",
       "}\n",
       "\n",
       "// This is roughly an async generator (not supported in the browser yet),\n",
       "// where there are multiple asynchronous steps and the Python side is going\n",
       "// to poll for completion of each step.\n",
       "// This uses a Promise to block the python side on completion of each step,\n",
       "// then passes the result of the previous step as the input to the next step.\n",
       "function _uploadFilesContinue(outputId) {\n",
       "  const outputElement = document.getElementById(outputId);\n",
       "  const steps = outputElement.steps;\n",
       "\n",
       "  const next = steps.next(outputElement.lastPromiseValue);\n",
       "  return Promise.resolve(next.value.promise).then((value) => {\n",
       "    // Cache the last promise value to make it available to the next\n",
       "    // step of the generator.\n",
       "    outputElement.lastPromiseValue = value;\n",
       "    return next.value.response;\n",
       "  });\n",
       "}\n",
       "\n",
       "/**\n",
       " * Generator function which is called between each async step of the upload\n",
       " * process.\n",
       " * @param {string} inputId Element ID of the input file picker element.\n",
       " * @param {string} outputId Element ID of the output display.\n",
       " * @return {!Iterable<!Object>} Iterable of next steps.\n",
       " */\n",
       "function* uploadFilesStep(inputId, outputId) {\n",
       "  const inputElement = document.getElementById(inputId);\n",
       "  inputElement.disabled = false;\n",
       "\n",
       "  const outputElement = document.getElementById(outputId);\n",
       "  outputElement.innerHTML = '';\n",
       "\n",
       "  const pickedPromise = new Promise((resolve) => {\n",
       "    inputElement.addEventListener('change', (e) => {\n",
       "      resolve(e.target.files);\n",
       "    });\n",
       "  });\n",
       "\n",
       "  const cancel = document.createElement('button');\n",
       "  inputElement.parentElement.appendChild(cancel);\n",
       "  cancel.textContent = 'Cancel upload';\n",
       "  const cancelPromise = new Promise((resolve) => {\n",
       "    cancel.onclick = () => {\n",
       "      resolve(null);\n",
       "    };\n",
       "  });\n",
       "\n",
       "  // Wait for the user to pick the files.\n",
       "  const files = yield {\n",
       "    promise: Promise.race([pickedPromise, cancelPromise]),\n",
       "    response: {\n",
       "      action: 'starting',\n",
       "    }\n",
       "  };\n",
       "\n",
       "  cancel.remove();\n",
       "\n",
       "  // Disable the input element since further picks are not allowed.\n",
       "  inputElement.disabled = true;\n",
       "\n",
       "  if (!files) {\n",
       "    return {\n",
       "      response: {\n",
       "        action: 'complete',\n",
       "      }\n",
       "    };\n",
       "  }\n",
       "\n",
       "  for (const file of files) {\n",
       "    const li = document.createElement('li');\n",
       "    li.append(span(file.name, {fontWeight: 'bold'}));\n",
       "    li.append(span(\n",
       "        `(${file.type || 'n/a'}) - ${file.size} bytes, ` +\n",
       "        `last modified: ${\n",
       "            file.lastModifiedDate ? file.lastModifiedDate.toLocaleDateString() :\n",
       "                                    'n/a'} - `));\n",
       "    const percent = span('0% done');\n",
       "    li.appendChild(percent);\n",
       "\n",
       "    outputElement.appendChild(li);\n",
       "\n",
       "    const fileDataPromise = new Promise((resolve) => {\n",
       "      const reader = new FileReader();\n",
       "      reader.onload = (e) => {\n",
       "        resolve(e.target.result);\n",
       "      };\n",
       "      reader.readAsArrayBuffer(file);\n",
       "    });\n",
       "    // Wait for the data to be ready.\n",
       "    let fileData = yield {\n",
       "      promise: fileDataPromise,\n",
       "      response: {\n",
       "        action: 'continue',\n",
       "      }\n",
       "    };\n",
       "\n",
       "    // Use a chunked sending to avoid message size limits. See b/62115660.\n",
       "    let position = 0;\n",
       "    do {\n",
       "      const length = Math.min(fileData.byteLength - position, MAX_PAYLOAD_SIZE);\n",
       "      const chunk = new Uint8Array(fileData, position, length);\n",
       "      position += length;\n",
       "\n",
       "      const base64 = btoa(String.fromCharCode.apply(null, chunk));\n",
       "      yield {\n",
       "        response: {\n",
       "          action: 'append',\n",
       "          file: file.name,\n",
       "          data: base64,\n",
       "        },\n",
       "      };\n",
       "\n",
       "      let percentDone = fileData.byteLength === 0 ?\n",
       "          100 :\n",
       "          Math.round((position / fileData.byteLength) * 100);\n",
       "      percent.textContent = `${percentDone}% done`;\n",
       "\n",
       "    } while (position < fileData.byteLength);\n",
       "  }\n",
       "\n",
       "  // All done.\n",
       "  yield {\n",
       "    response: {\n",
       "      action: 'complete',\n",
       "    }\n",
       "  };\n",
       "}\n",
       "\n",
       "scope.google = scope.google || {};\n",
       "scope.google.colab = scope.google.colab || {};\n",
       "scope.google.colab._files = {\n",
       "  _uploadFiles,\n",
       "  _uploadFilesContinue,\n",
       "};\n",
       "})(self);\n",
       "</script> "
      ],
      "text/plain": [
       "<IPython.core.display.HTML object>"
      ]
     },
     "metadata": {},
     "output_type": "display_data"
    },
    {
     "name": "stdout",
     "output_type": "stream",
     "text": [
      "Saving kaggle.json to kaggle.json\n"
     ]
    },
    {
     "data": {
      "text/plain": [
       "{'kaggle.json': b'{\"username\":\"weichunchang2000\",\"key\":\"773179abc6899133f0e9962470ce127f\"}'}"
      ]
     },
     "execution_count": 1,
     "metadata": {},
     "output_type": "execute_result"
    }
   ],
   "source": [
    "# ! pip install -q kaggle\n",
    "from google.colab import files\n",
    "files.upload() # need to choose the file you've downloaded from"
   ]
  },
  {
   "cell_type": "code",
   "execution_count": 2,
   "metadata": {
    "colab": {
     "base_uri": "https://localhost:8080/"
    },
    "id": "Vnl1t1wFUcmz",
    "outputId": "fda8cb36-42c4-414b-83d1-5870c45c9173"
   },
   "outputs": [
    {
     "name": "stdout",
     "output_type": "stream",
     "text": [
      "ref                                              title                                               size  lastUpdated          downloadCount  voteCount  usabilityRating  \n",
      "-----------------------------------------------  -------------------------------------------------  -----  -------------------  -------------  ---------  ---------------  \n",
      "thedrcat/daigt-v2-train-dataset                  DAIGT V2 Train Dataset                              29MB  2023-11-16 01:38:36           1220        134  1.0              \n",
      "muhammadbinimran/housing-price-prediction-data   Housing Price Prediction Data                      763KB  2023-11-21 17:56:32           4736         89  1.0              \n",
      "carlmcbrideellis/llm-7-prompt-training-dataset   LLM: 7 prompt training dataset                      41MB  2023-11-15 07:32:56           1504        115  1.0              \n",
      "thedrcat/daigt-proper-train-dataset              DAIGT Proper Train Dataset                         119MB  2023-11-05 14:03:25           1459        134  1.0              \n",
      "joebeachcapital/30000-spotify-songs              30000 Spotify Songs                                  3MB  2023-11-01 06:06:43           9888        211  1.0              \n",
      "jacksondivakarr/laptop-price-prediction-dataset  Laptop Price Prediction Dataset                    119KB  2023-11-30 16:23:34            813         29  1.0              \n",
      "ddosad/auto-sales-data                           Automobile Sales data                               79KB  2023-11-18 12:36:41           3860         69  1.0              \n",
      "julnazz/diabetes-health-indicators-dataset       Diabetes Health Indicators Dataset                   5MB  2023-11-27 07:10:53            853         21  1.0              \n",
      "nelgiriyewithana/world-educational-data          World Educational Data                               9KB  2023-11-04 06:10:17           7852        163  1.0              \n",
      "thedevastator/bank-term-deposit-predictions      Bank Term Deposit Predictions                      541KB  2023-11-30 14:37:39            849         29  1.0              \n",
      "sujaykapadnis/products-datasets                  Detailed Products Datasets                         100KB  2023-11-24 03:25:10           1070         26  1.0              \n",
      "maso0dahmed/video-games-data                     Video Games Data                                     5MB  2023-11-25 19:08:46           1214         36  1.0              \n",
      "alejopaullier/daigt-external-dataset             DAIGT | External Dataset                             3MB  2023-10-31 19:11:35           1004        122  0.7647059        \n",
      "nelgiriyewithana/australian-vehicle-prices       Australian Vehicle Prices                          582KB  2023-11-27 04:51:30           1126         44  1.0              \n",
      "prasad22/healthcare-dataset                      🩺Healthcare Dataset 🧪                              483KB  2023-10-31 11:30:58           7027        109  1.0              \n",
      "adampq/linkedin-jobs-machine-learning-data-set   LinkedIn Job Postings - Machine Learning Data Set   38MB  2023-11-28 17:18:04            437         25  1.0              \n",
      "jacksondivakarr/online-shopping-dataset          🛒 Online Shopping Dataset 📊📉📈                        5MB  2023-11-12 12:35:58           4083         76  1.0              \n",
      "asimislam/30-yrs-stock-market-data               30 yrs Stock Market Data                           882KB  2023-11-29 20:18:02           1081         27  1.0              \n",
      "imtkaggleteam/life-expectancy                    Life Expectancy                                    730KB  2023-11-30 12:22:23            621         33  0.9411765        \n",
      "muhammadbinimran/covid-19-pandemic-data          COVID-19 Pandemic Data                              457B  2023-11-07 20:42:55           1012         24  0.9411765        \n"
     ]
    }
   ],
   "source": [
    "# make directory named kaggle and copy kaggle.json file there\n",
    "! mkdir ~/.kaggle\n",
    "! cp kaggle.json ~/.kaggle/\n",
    "\n",
    "# change the permissions of the file\n",
    "! chmod 600 ~/.kaggle/kaggle.json\n",
    "\n",
    "# list the dataset\n",
    "! kaggle datasets list"
   ]
  },
  {
   "cell_type": "code",
   "execution_count": 3,
   "metadata": {
    "colab": {
     "base_uri": "https://localhost:8080/"
    },
    "id": "loL6UrSvUwE1",
    "outputId": "51e012e1-0203-47c7-ef02-07995af5c698"
   },
   "outputs": [
    {
     "name": "stdout",
     "output_type": "stream",
     "text": [
      "Downloading petfinder-pawpularity-score.zip to /content\n",
      "100% 983M/983M [00:51<00:00, 25.9MB/s]\n",
      "100% 983M/983M [00:51<00:00, 20.1MB/s]\n"
     ]
    }
   ],
   "source": [
    "# ! kaggle competitions download -c 'name-of-competition', you will find this in each competition\n",
    "! kaggle competitions download -c petfinder-pawpularity-score"
   ]
  },
  {
   "cell_type": "code",
   "execution_count": null,
   "metadata": {
    "id": "E5OKCW-yY1ac"
   },
   "outputs": [],
   "source": [
    "! rm -r pawpularitydataset # remove the directory if needed to rerun\n",
    "\n",
    "! mkdir pawpularitydataset\n",
    "! unzip petfinder-pawpularity-score.zip -d pawpularitydataset"
   ]
  },
  {
   "cell_type": "code",
   "execution_count": null,
   "metadata": {
    "colab": {
     "base_uri": "https://localhost:8080/"
    },
    "id": "iYpgs1OJ1zGr",
    "outputId": "88a9035a-fcc3-4b46-8266-3d8c9983013d"
   },
   "outputs": [
    {
     "name": "stdout",
     "output_type": "stream",
     "text": [
      "sample_submission.csv  test  test.csv  train  train.csv\n"
     ]
    }
   ],
   "source": [
    "! ls pawpularitydataset"
   ]
  },
  {
   "cell_type": "code",
   "execution_count": null,
   "metadata": {
    "colab": {
     "base_uri": "https://localhost:8080/"
    },
    "id": "ZrE-vPp3ajIo",
    "outputId": "d22f45fb-6a6b-4f56-c790-2b7e06b5ac9b"
   },
   "outputs": [
    {
     "name": "stdout",
     "output_type": "stream",
     "text": [
      "0007de18844b0dbbb5e1f607da0606e0.jpg\n",
      "0009c66b9439883ba2750fb825e1d7db.jpg\n",
      "0013fd999caf9a3efe1352ca1b0d937e.jpg\n",
      "0018df346ac9c1d8413cfcc888ca8246.jpg\n",
      "001dc955e10590d3ca4673f034feeef2.jpg\n",
      "001dd4f6fafb890610b1635f967ea081.jpg\n",
      "0023b8a3abc93c712edd6120867deb53.jpg\n",
      "0031d6a9ef7340f898c3e05f92c7bb04.jpg\n",
      "0042bc5bada6d1cf8951f8f9f0d399fa.jpg\n",
      "0049cb81313c94fa007286e9039af910.jpg\n"
     ]
    }
   ],
   "source": [
    "! ls pawpularitydataset/train | head -n 10"
   ]
  },
  {
   "cell_type": "code",
   "execution_count": null,
   "metadata": {
    "id": "4QVmLf-GatMj"
   },
   "outputs": [],
   "source": [
    "import numpy as np\n",
    "import pandas as pd\n",
    "import cv2\n",
    "import os\n",
    "import matplotlib.pyplot as plt\n",
    "%matplotlib inline\n",
    "import gc # garbage collector for cleaning deleted data from memory\n",
    "\n",
    "pd.options.display.max_columns = None\n",
    "pd.options.display.max_rows = None"
   ]
  },
  {
   "cell_type": "markdown",
   "metadata": {},
   "source": [
    "### We don't deal with the test set since we will submit the notebook for grading and will load the test set then"
   ]
  },
  {
   "cell_type": "code",
   "execution_count": null,
   "metadata": {
    "id": "hXP4kCZGxR6q"
   },
   "outputs": [],
   "source": [
    "train_imgs = [] # just to initialize in case I need to rerun\n",
    "\n",
    "train_dir = 'pawpularitydataset/train'\n",
    "train_imgs = ['pawpularitydataset/train/{}'.format(i) for i in os.listdir(train_dir)] # get train images"
   ]
  },
  {
   "cell_type": "code",
   "execution_count": null,
   "metadata": {
    "colab": {
     "base_uri": "https://localhost:8080/"
    },
    "id": "R_IT6eWCxU17",
    "outputId": "3e901c3f-0d7a-4826-883f-e943909f3adc"
   },
   "outputs": [
    {
     "data": {
      "text/plain": [
       "['pawpularitydataset/train/15c681c62392f2ee73ee0087f37ddeaf.jpg',\n",
       " 'pawpularitydataset/train/4130c0acf816e5b857a7217805da7f13.jpg',\n",
       " 'pawpularitydataset/train/db26ad9754421faec035456f15269f52.jpg',\n",
       " 'pawpularitydataset/train/f5f53baf396fee9ee0d51cf0ca5701cf.jpg',\n",
       " 'pawpularitydataset/train/fc00c2d6b03a78ddd12cde5716c5b0ab.jpg',\n",
       " 'pawpularitydataset/train/dc978e94fb761b9ee01b0595a2e3b9c8.jpg',\n",
       " 'pawpularitydataset/train/1c8284661c5c710cd1bd517d5c3e0f63.jpg',\n",
       " 'pawpularitydataset/train/d3df7802063d5cd7df72a873824015b2.jpg',\n",
       " 'pawpularitydataset/train/2da1d3fb0dff907c26e11af77f056203.jpg',\n",
       " 'pawpularitydataset/train/2d589fe856f7487989ac558e65cc213b.jpg']"
      ]
     },
     "execution_count": 10,
     "metadata": {},
     "output_type": "execute_result"
    }
   ],
   "source": [
    "train_imgs[:10]"
   ]
  },
  {
   "cell_type": "code",
   "execution_count": null,
   "metadata": {
    "colab": {
     "base_uri": "https://localhost:8080/"
    },
    "id": "eEv34FoTxVUc",
    "outputId": "000e6904-8f31-4d2a-94a7-bb132912afc5"
   },
   "outputs": [
    {
     "data": {
      "text/plain": [
       "9912"
      ]
     },
     "execution_count": 11,
     "metadata": {},
     "output_type": "execute_result"
    }
   ],
   "source": [
    "len(train_imgs)"
   ]
  },
  {
   "cell_type": "code",
   "execution_count": null,
   "metadata": {
    "id": "GZRn0FCSxXG0"
   },
   "outputs": [],
   "source": [
    "# declare our image dimensions using color images\n",
    "\n",
    "img_size = 250\n",
    "channels = 3  # change to 1 if need to use grayscale image\n",
    "\n",
    "# define function to read and process the images to an acceptable format for our model\n",
    "train_score = pd.read_csv('pawpularitydataset/train.csv') # the pawpularity score is in this csv file\n",
    "\n",
    "def read_and_process_image(list_of_images):\n",
    "    X = [] # an array of resized images\n",
    "    y = [] # an array of score\n",
    "\n",
    "    for i, image in enumerate(list_of_images):\n",
    "        X.append(cv2.resize(cv2.imread(image, cv2.IMREAD_COLOR), (img_size, img_size), interpolation=cv2.INTER_CUBIC)) # read the image\n",
    "        y.append(train_score.Pawpularity[i]) # get the score\n",
    "\n",
    "    return X, y"
   ]
  },
  {
   "cell_type": "code",
   "execution_count": null,
   "metadata": {
    "id": "FIuAgkxUxY0C"
   },
   "outputs": [],
   "source": [
    "# get the whole train and label data\n",
    "X, y = read_and_process_image(train_imgs)"
   ]
  },
  {
   "cell_type": "code",
   "execution_count": null,
   "metadata": {
    "colab": {
     "base_uri": "https://localhost:8080/"
    },
    "id": "JmEd2BIp0vpv",
    "outputId": "82510087-7068-4d06-ae05-2496c62285bd"
   },
   "outputs": [
    {
     "data": {
      "text/plain": [
       "9912"
      ]
     },
     "execution_count": 14,
     "metadata": {},
     "output_type": "execute_result"
    }
   ],
   "source": [
    "len(y)"
   ]
  },
  {
   "cell_type": "code",
   "execution_count": null,
   "metadata": {
    "colab": {
     "base_uri": "https://localhost:8080/",
     "height": 236
    },
    "id": "_sxVpAemxalp",
    "outputId": "2b392c8a-fdfa-4c0e-c231-9aa29437966c"
   },
   "outputs": [
    {
     "data": {
      "text/plain": [
       "<matplotlib.image.AxesImage at 0x7c6e63617730>"
      ]
     },
     "execution_count": 15,
     "metadata": {},
     "output_type": "execute_result"
    },
    {
     "data": {
      "image/png": "[encoded data removed]",
      "text/plain": [
       "<Figure size 500x200 with 1 Axes>"
      ]
     },
     "metadata": {},
     "output_type": "display_data"
    }
   ],
   "source": [
    "# randomly check one image and show to check\n",
    "plt.figure(figsize=(5, 2))\n",
    "plt.imshow(X[2])"
   ]
  },
  {
   "cell_type": "code",
   "execution_count": null,
   "metadata": {
    "id": "8YN2TGd-xnYv"
   },
   "outputs": [],
   "source": [
    "# convert list to numpy array\n",
    "X = np.array(X)\n",
    "y = np.array(y)"
   ]
  },
  {
   "cell_type": "markdown",
   "metadata": {},
   "source": [
    "# Mount my Google drive to save the processed training arrays and labels\n",
    "So that I only need to upload the array.npy and label.npy to kaggle to train the model instead of redo data preprocessing everytime."
   ]
  },
  {
   "cell_type": "code",
   "execution_count": null,
   "metadata": {
    "colab": {
     "base_uri": "https://localhost:8080/"
    },
    "id": "tlWP2cVOxpXY",
    "outputId": "25fb3fee-5641-438a-d8cc-1ca1ace6f70a"
   },
   "outputs": [
    {
     "name": "stdout",
     "output_type": "stream",
     "text": [
      "Mounted at /content/drive\n"
     ]
    }
   ],
   "source": [
    "from google.colab import drive\n",
    "drive.mount('/content/drive')"
   ]
  },
  {
   "cell_type": "code",
   "execution_count": null,
   "metadata": {
    "id": "KJpjeJEWxrEI"
   },
   "outputs": [],
   "source": [
    "# save to google drive so that don't need to load the image each time\n",
    "np.save(\"/content/drive/MyDrive/Colab Notebooks/group250/training_X.npy\", X)\n",
    "np.save(\"/content/drive/MyDrive/Colab Notebooks/group250/training_y.npy\", y)"
   ]
  },
  {
   "cell_type": "markdown",
   "metadata": {},
   "source": [
    "# Done preprocessing images into arrays and save in Google drive\n",
    "Let's switch to the kaggle notebook for model training"
   ]
  }
 ],
 "metadata": {
  "colab": {
   "provenance": []
  },
  "kernelspec": {
   "display_name": "Python 3",
   "language": "python",
   "name": "python3"
  },
  "language_info": {
   "codemirror_mode": {
    "name": "ipython",
    "version": 3
   },
   "file_extension": ".py",
   "mimetype": "text/x-python",
   "name": "python",
   "nbconvert_exporter": "python",
   "pygments_lexer": "ipython3",
   "version": "3.8.8"
  }
 },
 "nbformat": 4,
 "nbformat_minor": 1
}
