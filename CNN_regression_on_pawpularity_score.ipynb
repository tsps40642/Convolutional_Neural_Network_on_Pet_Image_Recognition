{
 "cells": [
  {
   "cell_type": "markdown",
   "metadata": {},
   "source": [
    "# Only need to execute this notebook in kaggle \n",
    "We trained the model, generated the prediction, then saved the output as submission.csv for scoring"
   ]
  },
  {
   "cell_type": "code",
   "execution_count": 37,
   "metadata": {
    "execution": {
     "iopub.execute_input": "2023-12-05T05:36:39.030831Z",
     "iopub.status.busy": "2023-12-05T05:36:39.029661Z",
     "iopub.status.idle": "2023-12-05T05:36:39.039085Z",
     "shell.execute_reply": "2023-12-05T05:36:39.037964Z",
     "shell.execute_reply.started": "2023-12-05T05:36:39.030792Z"
    },
    "id": "4QVmLf-GatMj",
    "outputId": "51ff667d-99d1-4c3b-d136-141f816ef11e"
   },
   "outputs": [],
   "source": [
    "import numpy as np\n",
    "import pandas as pd\n",
    "import cv2\n",
    "import torchvision.transforms as transforms\n",
    "import time\n",
    "import os\n",
    "import random\n",
    "import matplotlib.pyplot as plt\n",
    "%matplotlib inline\n",
    "import gc # aarbage collector to clean uesless data from memory\n",
    "\n",
    "pd.options.display.max_columns = None\n",
    "pd.options.display.max_rows = None\n",
    "\n",
    "# have checked that we can appropriately ignore warnings\n",
    "import warnings\n",
    "warnings.filterwarnings('ignore') # ignore warnings"
   ]
  },
  {
   "cell_type": "markdown",
   "metadata": {},
   "source": [
    "### Set up the array generating function for later usage"
   ]
  },
  {
   "cell_type": "code",
   "execution_count": 4,
   "metadata": {
    "execution": {
     "iopub.execute_input": "2023-12-05T04:59:54.374680Z",
     "iopub.status.busy": "2023-12-05T04:59:54.373988Z",
     "iopub.status.idle": "2023-12-05T04:59:54.380096Z",
     "shell.execute_reply": "2023-12-05T04:59:54.379207Z",
     "shell.execute_reply.started": "2023-12-05T04:59:54.374646Z"
    }
   },
   "outputs": [],
   "source": [
    "# for test set\n",
    "# declare our image dimensions using color images\n",
    "\n",
    "img_size = 250\n",
    "channels = 3  # change to 1 if need to use grayscale image\n",
    "\n",
    "# define function to read and process the images to an acceptable format for our model\n",
    "def read_and_process_image_test(list_of_images):\n",
    "    X = [] # an array of resized images\n",
    "    for i, image in enumerate(list_of_images):\n",
    "        X.append(cv2.resize(cv2.imread(image, cv2.IMREAD_COLOR), (img_size, img_size), interpolation=cv2.INTER_CUBIC)) # read the image\n",
    "\n",
    "    return X"
   ]
  },
  {
   "cell_type": "markdown",
   "metadata": {
    "id": "iu0UNfp05CB1"
   },
   "source": [
    "# Load in the training array and label\n",
    "We have to up load them to the input section of kaggle notebook first, so we can load the preprocessed training set array:   \n",
    "1. image size = 250 pixel * 250 pixels  \n",
    "2. The categorical label has already been preprocessed using one hot encoding"
   ]
  },
  {
   "cell_type": "code",
   "execution_count": 38,
   "metadata": {
    "execution": {
     "iopub.execute_input": "2023-12-05T05:36:52.826273Z",
     "iopub.status.busy": "2023-12-05T05:36:52.825584Z",
     "iopub.status.idle": "2023-12-05T05:36:53.484305Z",
     "shell.execute_reply": "2023-12-05T05:36:53.483261Z",
     "shell.execute_reply.started": "2023-12-05T05:36:52.826239Z"
    }
   },
   "outputs": [
    {
     "name": "stdout",
     "output_type": "stream",
     "text": [
      "shape of train images: (9912, 250, 250, 3)\n",
      "shape of labels: (9912,)\n"
     ]
    }
   ],
   "source": [
    "X_TRAIN = np.load(\"/kaggle/input/training250/training_X.npy\", allow_pickle = True)\n",
    "y_TRAIN = np.load(\"/kaggle/input/training250/training_y.npy\", allow_pickle = True)\n",
    "\n",
    "print(\"shape of train images:\", X_TRAIN.shape)\n",
    "print(\"shape of labels:\", y_TRAIN.shape)"
   ]
  },
  {
   "cell_type": "code",
   "execution_count": 39,
   "metadata": {
    "execution": {
     "iopub.execute_input": "2023-12-05T05:36:55.056893Z",
     "iopub.status.busy": "2023-12-05T05:36:55.056470Z",
     "iopub.status.idle": "2023-12-05T05:36:55.619849Z",
     "shell.execute_reply": "2023-12-05T05:36:55.618894Z",
     "shell.execute_reply.started": "2023-12-05T05:36:55.056857Z"
    },
    "id": "R_oQl9Gex4d7"
   },
   "outputs": [
    {
     "name": "stdout",
     "output_type": "stream",
     "text": [
      "shape of train images: (7929, 250, 250, 3)\n",
      "shape of validation images: (1983, 250, 250, 3)\n",
      "shape of labels: (7929,)\n",
      "shape of labels: (1983,)\n"
     ]
    }
   ],
   "source": [
    "# split the data into train and validation set\n",
    "from sklearn.model_selection import train_test_split\n",
    "X_train, X_val, y_train, y_val = train_test_split(X_TRAIN, y_TRAIN, test_size=0.20, random_state=2)\n",
    "\n",
    "print(\"shape of train images:\", X_train.shape)\n",
    "print(\"shape of validation images:\", X_val.shape)\n",
    "print(\"shape of labels:\", y_train.shape)\n",
    "print(\"shape of labels:\", y_val.shape)"
   ]
  },
  {
   "cell_type": "code",
   "execution_count": 7,
   "metadata": {
    "execution": {
     "iopub.execute_input": "2023-12-05T05:00:39.456984Z",
     "iopub.status.busy": "2023-12-05T05:00:39.456225Z",
     "iopub.status.idle": "2023-12-05T05:00:39.460912Z",
     "shell.execute_reply": "2023-12-05T05:00:39.459945Z",
     "shell.execute_reply.started": "2023-12-05T05:00:39.456950Z"
    },
    "id": "F-3_UyJtx6oH"
   },
   "outputs": [],
   "source": [
    "# set up small batch to avoid run out of memory when allocating\n",
    "batch_size = 32"
   ]
  },
  {
   "cell_type": "code",
   "execution_count": 8,
   "metadata": {
    "execution": {
     "iopub.execute_input": "2023-12-05T05:00:41.849982Z",
     "iopub.status.busy": "2023-12-05T05:00:41.849103Z",
     "iopub.status.idle": "2023-12-05T05:00:41.975398Z",
     "shell.execute_reply": "2023-12-05T05:00:41.974485Z",
     "shell.execute_reply.started": "2023-12-05T05:00:41.849951Z"
    }
   },
   "outputs": [
    {
     "data": {
      "text/plain": [
       "0"
      ]
     },
     "execution_count": 8,
     "metadata": {},
     "output_type": "execute_result"
    }
   ],
   "source": [
    "# clear memory\n",
    "del X_TRAIN\n",
    "del y_TRAIN\n",
    "gc.collect()"
   ]
  },
  {
   "cell_type": "markdown",
   "metadata": {},
   "source": [
    "# Image augmentation"
   ]
  },
  {
   "cell_type": "code",
   "execution_count": 10,
   "metadata": {
    "execution": {
     "iopub.execute_input": "2023-12-05T05:00:58.933425Z",
     "iopub.status.busy": "2023-12-05T05:00:58.932776Z",
     "iopub.status.idle": "2023-12-05T05:01:00.689940Z",
     "shell.execute_reply": "2023-12-05T05:01:00.688989Z",
     "shell.execute_reply.started": "2023-12-05T05:00:58.933392Z"
    }
   },
   "outputs": [],
   "source": [
    "# this would helps prevent overfitting, since we are using a small dataset\n",
    "train_datagen = ImageDataGenerator(rescale = 1./255,   # scale the image between 0 and 1\n",
    "                                   rotation_range = 60,\n",
    "                                   width_shift_range = 1.0,\n",
    "                                   height_shift_range = 1.0,\n",
    "                                   shear_range = 0.4,\n",
    "                                   zoom_range = [0.1, 2],\n",
    "                                   horizontal_flip = True,\n",
    "                                   vertical_flip = True,\n",
    "                                   fill_mode='nearest')\n",
    "\n",
    "\n",
    "val_datagen = ImageDataGenerator(rescale = 1./255)  # do not augment validation data. we only perform rescale\n",
    "\n",
    "# create the image generators\n",
    "train_generator = train_datagen.flow(X_train, y_train, batch_size=batch_size)\n",
    "val_generator = val_datagen.flow(X_val, y_val, batch_size=batch_size)"
   ]
  },
  {
   "cell_type": "markdown",
   "metadata": {},
   "source": [
    "# Import modules for model training"
   ]
  },
  {
   "cell_type": "code",
   "execution_count": 9,
   "metadata": {
    "execution": {
     "iopub.execute_input": "2023-12-05T05:00:44.891763Z",
     "iopub.status.busy": "2023-12-05T05:00:44.890629Z",
     "iopub.status.idle": "2023-12-05T05:00:55.763970Z",
     "shell.execute_reply": "2023-12-05T05:00:55.763202Z",
     "shell.execute_reply.started": "2023-12-05T05:00:44.891726Z"
    }
   },
   "outputs": [],
   "source": [
    "import keras\n",
    "import tensorflow as tf\n",
    "from tensorflow.keras.models import Sequential, Model\n",
    "from tensorflow.keras.layers import Conv2D, BatchNormalization, MaxPooling2D, Dropout, Flatten, Dense, Activation\n",
    "from tensorflow.keras.preprocessing.image import ImageDataGenerator\n",
    "from tensorflow.keras.callbacks import EarlyStopping"
   ]
  },
  {
   "cell_type": "markdown",
   "metadata": {},
   "source": [
    "# Self-built CNN  "
   ]
  },
  {
   "cell_type": "code",
   "execution_count": 41,
   "metadata": {
    "execution": {
     "iopub.execute_input": "2023-12-05T05:39:49.468772Z",
     "iopub.status.busy": "2023-12-05T05:39:49.467870Z",
     "iopub.status.idle": "2023-12-05T05:39:49.486322Z",
     "shell.execute_reply": "2023-12-05T05:39:49.485213Z",
     "shell.execute_reply.started": "2023-12-05T05:39:49.468736Z"
    }
   },
   "outputs": [],
   "source": [
    "# define the function to create CNN model\n",
    "\n",
    "def creat_model():\n",
    "    \n",
    "    model = keras.models.Sequential()\n",
    "\n",
    "    # data_format='channels_last': so the channels(1 for grayscale/3 for RGB) will be the last dimension in input_shape\n",
    "    # X_train should be: (batch_size, height, width, channels)\n",
    "    # i.e., (training_data.shape[0], img_size, img_size, 1) since we have 25000 data\n",
    "\n",
    "    # convolutional layer 1\n",
    "    model.add(Conv2D(filters=32, kernel_size=3, data_format='channels_last', input_shape=(img_size, img_size, 3), padding='same', strides=1)) # filters=32: have 32 filters\n",
    "    model.add(BatchNormalization())\n",
    "    model.add(Activation(\"relu\"))\n",
    "    model.add(MaxPooling2D(pool_size=(2, 2)))\n",
    "    model.add(Dropout(0.25))\n",
    "\n",
    "    # convolutional layer 2\n",
    "    # after the 1st layer, don't need to specify the size of the input\n",
    "    model.add(Conv2D(filters=64, kernel_size=3))\n",
    "    model.add(BatchNormalization())\n",
    "    model.add(Activation(\"relu\"))\n",
    "    model.add(MaxPooling2D(pool_size=(2, 2)))\n",
    "    model.add(Dropout(0.25))\n",
    "\n",
    "    # convolutional layer 3\n",
    "    # after the 1st layer, don't need to specify the size of the input\n",
    "    model.add(Conv2D(filters=128, kernel_size=3))\n",
    "    model.add(BatchNormalization())\n",
    "    model.add(Activation(\"relu\"))\n",
    "    model.add(MaxPooling2D(pool_size=(2, 2)))\n",
    "    model.add(Dropout(0.25))\n",
    "\n",
    "    # convolutional layer 4\n",
    "    # after the 1st layer, don't need to specify the size of the input\n",
    "    model.add(Conv2D(filters=256, kernel_size=3))\n",
    "    model.add(BatchNormalization())\n",
    "    model.add(Activation(\"relu\"))\n",
    "    model.add(MaxPooling2D(pool_size=(2, 2)))\n",
    "    model.add(Dropout(0.5))\n",
    "    \n",
    "    # convolutional layer 5\n",
    "    # after the 1st layer, don't need to specify the size of the input\n",
    "    model.add(Conv2D(filters=512, kernel_size=3))\n",
    "    model.add(BatchNormalization())\n",
    "    model.add(Activation(\"relu\"))\n",
    "    model.add(MaxPooling2D(pool_size=(2, 2)))\n",
    "    model.add(Dropout(0.5))\n",
    "\n",
    "    # flatten layer\n",
    "    model.add(Flatten())\n",
    "\n",
    "    # dense layer 1\n",
    "    model.add(Dense(units=512))\n",
    "    model.add(BatchNormalization())\n",
    "    model.add(Activation(\"relu\"))\n",
    "    model.add(Dropout(0.25))\n",
    "    \n",
    "    # dense layer 2\n",
    "    model.add(Dense(units=256))\n",
    "    model.add(BatchNormalization())\n",
    "    model.add(Activation(\"relu\"))\n",
    "    model.add(Dropout(0.25))\n",
    "    \n",
    "    # dense layer 3\n",
    "    model.add(Dense(units=128))\n",
    "    model.add(BatchNormalization())\n",
    "    model.add(Activation(\"relu\"))\n",
    "    model.add(Dropout(0.25))\n",
    "    \n",
    "    # dense layer 4\n",
    "    model.add(Dense(units=64))\n",
    "    model.add(BatchNormalization())\n",
    "    model.add(Activation(\"relu\"))\n",
    "    model.add(Dropout(0.5))\n",
    "    \n",
    "    # dense layer 5\n",
    "    model.add(Dense(units=32))\n",
    "    model.add(BatchNormalization())\n",
    "    model.add(Activation(\"relu\"))\n",
    "    model.add(Dropout(0.5))\n",
    "\n",
    "    # dense layer 6, i.e. output layer (size=1 for regression)\n",
    "    model.add(Dense(units=1, activation='relu'))\n",
    "\n",
    "    # compile\n",
    "    model.compile(optimizer='adam', loss='mse', metrics=[tf.keras.metrics.RootMeanSquaredError()])\n",
    "    \n",
    "    return model"
   ]
  },
  {
   "cell_type": "code",
   "execution_count": null,
   "metadata": {},
   "outputs": [],
   "source": [
    "# define the early stopping callback\n",
    "early_stopping = EarlyStopping(monitor='val_loss',\n",
    "                               patience=4,\n",
    "                               restore_best_weights=True)"
   ]
  },
  {
   "cell_type": "markdown",
   "metadata": {},
   "source": [
    "### In the model training phase, we only extract epochs from 8-30 and set early stop to avoid overfitting  \n",
    "We did this by setting initial_epoch to get more stable outcome"
   ]
  },
  {
   "cell_type": "code",
   "execution_count": 42,
   "metadata": {
    "execution": {
     "iopub.execute_input": "2023-12-05T05:41:47.607948Z",
     "iopub.status.busy": "2023-12-05T05:41:47.607575Z",
     "iopub.status.idle": "2023-12-05T06:11:18.245106Z",
     "shell.execute_reply": "2023-12-05T06:11:18.244061Z",
     "shell.execute_reply.started": "2023-12-05T05:41:47.607924Z"
    }
   },
   "outputs": [
    {
     "name": "stdout",
     "output_type": "stream",
     "text": [
      "Epoch 8/30\n"
     ]
    },
    {
     "name": "stderr",
     "output_type": "stream",
     "text": [
      "2023-12-05 05:41:51.776630: E tensorflow/core/grappler/optimizers/meta_optimizer.cc:954] layout failed: INVALID_ARGUMENT: Size of values 0 does not match size of permutation 4 @ fanin shape insequential_1/dropout_24/dropout/SelectV2-2-TransposeNHWCToNCHW-LayoutOptimizer\n"
     ]
    },
    {
     "name": "stdout",
     "output_type": "stream",
     "text": [
      "247/247 [==============================] - 135s 507ms/step - loss: 1657.9318 - root_mean_squared_error: 40.7177 - val_loss: 1548.3010 - val_root_mean_squared_error: 39.3485\n",
      "Epoch 9/30\n",
      "247/247 [==============================] - 124s 503ms/step - loss: 1191.9634 - root_mean_squared_error: 34.5248 - val_loss: 1158.0403 - val_root_mean_squared_error: 34.0300\n",
      "Epoch 10/30\n",
      "247/247 [==============================] - 125s 505ms/step - loss: 750.4642 - root_mean_squared_error: 27.3946 - val_loss: 666.8702 - val_root_mean_squared_error: 25.8238\n",
      "Epoch 11/30\n",
      "247/247 [==============================] - 125s 508ms/step - loss: 563.9544 - root_mean_squared_error: 23.7477 - val_loss: 492.6856 - val_root_mean_squared_error: 22.1965\n",
      "Epoch 12/30\n",
      "247/247 [==============================] - 127s 513ms/step - loss: 511.8406 - root_mean_squared_error: 22.6239 - val_loss: 469.2993 - val_root_mean_squared_error: 21.6633\n",
      "Epoch 13/30\n",
      "247/247 [==============================] - 125s 504ms/step - loss: 513.8691 - root_mean_squared_error: 22.6687 - val_loss: 461.5994 - val_root_mean_squared_error: 21.4849\n",
      "Epoch 14/30\n",
      "247/247 [==============================] - 125s 503ms/step - loss: 516.8012 - root_mean_squared_error: 22.7333 - val_loss: 456.0887 - val_root_mean_squared_error: 21.3562\n",
      "Epoch 15/30\n",
      "247/247 [==============================] - 126s 511ms/step - loss: 504.9437 - root_mean_squared_error: 22.4710 - val_loss: 452.8730 - val_root_mean_squared_error: 21.2808\n",
      "Epoch 16/30\n",
      "247/247 [==============================] - 126s 510ms/step - loss: 503.6738 - root_mean_squared_error: 22.4427 - val_loss: 444.9966 - val_root_mean_squared_error: 21.0949\n",
      "Epoch 17/30\n",
      "247/247 [==============================] - 127s 513ms/step - loss: 499.0487 - root_mean_squared_error: 22.3394 - val_loss: 437.3275 - val_root_mean_squared_error: 20.9124\n",
      "Epoch 18/30\n",
      "247/247 [==============================] - 127s 513ms/step - loss: 504.1559 - root_mean_squared_error: 22.4534 - val_loss: 440.0754 - val_root_mean_squared_error: 20.9780\n",
      "Epoch 19/30\n",
      "247/247 [==============================] - 127s 514ms/step - loss: 494.2424 - root_mean_squared_error: 22.2316 - val_loss: 464.9687 - val_root_mean_squared_error: 21.5631\n",
      "Epoch 20/30\n",
      "247/247 [==============================] - 126s 509ms/step - loss: 494.3918 - root_mean_squared_error: 22.2349 - val_loss: 443.1474 - val_root_mean_squared_error: 21.0511\n",
      "Epoch 21/30\n",
      "247/247 [==============================] - 126s 508ms/step - loss: 494.9007 - root_mean_squared_error: 22.2464 - val_loss: 445.7154 - val_root_mean_squared_error: 21.1120\n"
     ]
    }
   ],
   "source": [
    "# creat_model() will return a cnn model initial structure\n",
    "model = creat_model() \n",
    "\n",
    "# train the model\n",
    "history = model.fit(train_generator, \n",
    "                    steps_per_epoch = len(X_train) // batch_size, \n",
    "                    epochs=30, \n",
    "                    initial_epoch = 7,\n",
    "                    validation_data=val_generator, \n",
    "                    validation_steps = len(X_val) // batch_size, \n",
    "                    callbacks=[early_stopping])"
   ]
  },
  {
   "cell_type": "markdown",
   "metadata": {},
   "source": [
    "### Save the model for future useage"
   ]
  },
  {
   "cell_type": "code",
   "execution_count": null,
   "metadata": {},
   "outputs": [],
   "source": [
    "# save the entire model as a `.keras` zip archive\n",
    "model.save('1204_my_model_8-30_epoch.keras')"
   ]
  },
  {
   "cell_type": "markdown",
   "metadata": {},
   "source": [
    "### Visualize training and validation loss"
   ]
  },
  {
   "cell_type": "code",
   "execution_count": 43,
   "metadata": {
    "execution": {
     "iopub.execute_input": "2023-12-05T06:22:38.844598Z",
     "iopub.status.busy": "2023-12-05T06:22:38.843382Z",
     "iopub.status.idle": "2023-12-05T06:22:39.303900Z",
     "shell.execute_reply": "2023-12-05T06:22:39.302989Z",
     "shell.execute_reply.started": "2023-12-05T06:22:38.844564Z"
    }
   },
   "outputs": [
    {
     "data": {
      "image/png": "[encoded data removed]",
      "text/plain": [
       "<Figure size 640x480 with 1 Axes>"
      ]
     },
     "metadata": {},
     "output_type": "display_data"
    },
    {
     "data": {
      "image/png": "[encoded data removed]",
      "text/plain": [
       "<Figure size 640x480 with 1 Axes>"
      ]
     },
     "metadata": {},
     "output_type": "display_data"
    }
   ],
   "source": [
    "# plot the train and val curve\n",
    "\n",
    "rmse = history.history['root_mean_squared_error']\n",
    "val_rmse = history.history['val_root_mean_squared_error']\n",
    "loss = history.history['loss']\n",
    "val_loss = history.history['val_loss']\n",
    "\n",
    "epochs = range(1, len(rmse) + 1)\n",
    "\n",
    "#Train and validation accuracy\n",
    "plt.plot(epochs, rmse, 'b', label='Training RMSE')\n",
    "plt.plot(epochs, val_rmse, 'r', label='Validation RMSE')\n",
    "plt.title('Training and Validation RMSE')\n",
    "plt.xlabel('epochs')\n",
    "plt.ylabel('RMSE')\n",
    "plt.legend()\n",
    "\n",
    "plt.figure()\n",
    "#Train and validation loss\n",
    "plt.plot(epochs, loss, 'b', label='Training loss')\n",
    "plt.plot(epochs, val_loss, 'r', label='Validation loss')\n",
    "plt.title('Training and Validation loss')\n",
    "plt.xlabel('epochs')\n",
    "plt.ylabel('RMSE')\n",
    "plt.legend()\n",
    "\n",
    "plt.show()"
   ]
  },
  {
   "cell_type": "markdown",
   "metadata": {},
   "source": [
    "### Summary for model training\n",
    "1. Loss in train set and validation set decreased gradually in similar patterns as training epochs increase.  \n",
    "2. The training process was interrupted by early stopping after 21 epochs, so we got 8-21 epochs.  \n",
    "2. We can see that validation loss is around 21, which might not be good enough, so we want to try the pretrainined model under Keras structure.  "
   ]
  },
  {
   "cell_type": "markdown",
   "metadata": {},
   "source": [
    "# Pretrained Keras model: EfficientNetB4 (version for regression)\n",
    "### Among all the model we've tried (listed in the appendix), this model gave us the best result in test set\n",
    "Since the submission of the notebook can't connect to the internet, we can't use the code like:  \n",
    "\"  pretrained_model = EfficientNetB4(include_top = False, weights = 'imagenet', input_shape=(img_size, img_size, 3)) \"  \n",
    "since this will need to connect to ImageNet to load the weight  "
   ]
  },
  {
   "cell_type": "markdown",
   "metadata": {},
   "source": [
    "### Get the model path under kaggle notebook"
   ]
  },
  {
   "cell_type": "code",
   "execution_count": 14,
   "metadata": {
    "execution": {
     "iopub.execute_input": "2023-12-05T05:02:02.402733Z",
     "iopub.status.busy": "2023-12-05T05:02:02.402016Z",
     "iopub.status.idle": "2023-12-05T05:02:02.408672Z",
     "shell.execute_reply": "2023-12-05T05:02:02.407668Z",
     "shell.execute_reply.started": "2023-12-05T05:02:02.402698Z"
    }
   },
   "outputs": [
    {
     "name": "stdout",
     "output_type": "stream",
     "text": [
      "selected model path: efficientnetv2-b4 : /kaggle/input/efficientnet/tensorflow2/b4-feature-vector/1\n",
      "input size (250, 250)\n"
     ]
    }
   ],
   "source": [
    "model_name = \"efficientnetv2-b4\"\n",
    "\n",
    "model_handle_map = {'efficientnetv2-b4': '/kaggle/input/efficientnet/tensorflow2/b4-feature-vector/1'}\n",
    "\n",
    "model_image_size_map = {\n",
    "  \"efficientnetv2-b4\": img_size,\n",
    "}\n",
    "\n",
    "model_handle = model_handle_map.get(model_name)\n",
    "pixels = model_image_size_map.get(model_name, img_size)\n",
    "\n",
    "print(f\"selected model path: {model_name} : {model_handle}\")\n",
    "\n",
    "IMAGE_SIZE = (pixels, pixels)\n",
    "print(f\"input size {IMAGE_SIZE}\")"
   ]
  },
  {
   "cell_type": "code",
   "execution_count": 15,
   "metadata": {
    "execution": {
     "iopub.execute_input": "2023-12-05T05:02:04.825791Z",
     "iopub.status.busy": "2023-12-05T05:02:04.825431Z",
     "iopub.status.idle": "2023-12-05T05:02:04.831972Z",
     "shell.execute_reply": "2023-12-05T05:02:04.831047Z",
     "shell.execute_reply.started": "2023-12-05T05:02:04.825763Z"
    }
   },
   "outputs": [
    {
     "data": {
      "text/plain": [
       "(250, 250, 3)"
      ]
     },
     "execution_count": 15,
     "metadata": {},
     "output_type": "execute_result"
    }
   ],
   "source": [
    "# check the imput shape\n",
    "IMAGE_SIZE + (3,)"
   ]
  },
  {
   "cell_type": "code",
   "execution_count": 17,
   "metadata": {
    "execution": {
     "iopub.execute_input": "2023-12-05T05:02:38.776497Z",
     "iopub.status.busy": "2023-12-05T05:02:38.775613Z",
     "iopub.status.idle": "2023-12-05T05:03:00.468583Z",
     "shell.execute_reply": "2023-12-05T05:03:00.467703Z",
     "shell.execute_reply.started": "2023-12-05T05:02:38.776431Z"
    }
   },
   "outputs": [
    {
     "name": "stdout",
     "output_type": "stream",
     "text": [
      "Model: \"sequential\"\n",
      "_________________________________________________________________\n",
      " Layer (type)                Output Shape              Param #   \n",
      "=================================================================\n",
      " keras_layer_1 (KerasLayer)  (None, 1792)              17673816  \n",
      "                                                                 \n",
      " dense_11 (Dense)            (None, 32)                57376     \n",
      "                                                                 \n",
      " batch_normalization_10 (Ba  (None, 32)                128       \n",
      " tchNormalization)                                               \n",
      "                                                                 \n",
      " activation_10 (Activation)  (None, 32)                0         \n",
      "                                                                 \n",
      " dropout_10 (Dropout)        (None, 32)                0         \n",
      "                                                                 \n",
      " dense_12 (Dense)            (None, 64)                2112      \n",
      "                                                                 \n",
      " batch_normalization_11 (Ba  (None, 64)                256       \n",
      " tchNormalization)                                               \n",
      "                                                                 \n",
      " activation_11 (Activation)  (None, 64)                0         \n",
      "                                                                 \n",
      " dropout_11 (Dropout)        (None, 64)                0         \n",
      "                                                                 \n",
      " dense_13 (Dense)            (None, 128)               8320      \n",
      "                                                                 \n",
      " batch_normalization_12 (Ba  (None, 128)               512       \n",
      " tchNormalization)                                               \n",
      "                                                                 \n",
      " activation_12 (Activation)  (None, 128)               0         \n",
      "                                                                 \n",
      " dropout_12 (Dropout)        (None, 128)               0         \n",
      "                                                                 \n",
      " dense_14 (Dense)            (None, 256)               33024     \n",
      "                                                                 \n",
      " batch_normalization_13 (Ba  (None, 256)               1024      \n",
      " tchNormalization)                                               \n",
      "                                                                 \n",
      " activation_13 (Activation)  (None, 256)               0         \n",
      "                                                                 \n",
      " dropout_13 (Dropout)        (None, 256)               0         \n",
      "                                                                 \n",
      " dense_15 (Dense)            (None, 512)               131584    \n",
      "                                                                 \n",
      " batch_normalization_14 (Ba  (None, 512)               2048      \n",
      " tchNormalization)                                               \n",
      "                                                                 \n",
      " activation_14 (Activation)  (None, 512)               0         \n",
      "                                                                 \n",
      " dropout_14 (Dropout)        (None, 512)               0         \n",
      "                                                                 \n",
      " dense_16 (Dense)            (None, 256)               131328    \n",
      "                                                                 \n",
      " batch_normalization_15 (Ba  (None, 256)               1024      \n",
      " tchNormalization)                                               \n",
      "                                                                 \n",
      " activation_15 (Activation)  (None, 256)               0         \n",
      "                                                                 \n",
      " dropout_15 (Dropout)        (None, 256)               0         \n",
      "                                                                 \n",
      " dense_17 (Dense)            (None, 128)               32896     \n",
      "                                                                 \n",
      " batch_normalization_16 (Ba  (None, 128)               512       \n",
      " tchNormalization)                                               \n",
      "                                                                 \n",
      " activation_16 (Activation)  (None, 128)               0         \n",
      "                                                                 \n",
      " dropout_16 (Dropout)        (None, 128)               0         \n",
      "                                                                 \n",
      " dense_18 (Dense)            (None, 64)                8256      \n",
      "                                                                 \n",
      " batch_normalization_17 (Ba  (None, 64)                256       \n",
      " tchNormalization)                                               \n",
      "                                                                 \n",
      " activation_17 (Activation)  (None, 64)                0         \n",
      "                                                                 \n",
      " dropout_17 (Dropout)        (None, 64)                0         \n",
      "                                                                 \n",
      " dense_19 (Dense)            (None, 32)                2080      \n",
      "                                                                 \n",
      " batch_normalization_18 (Ba  (None, 32)                128       \n",
      " tchNormalization)                                               \n",
      "                                                                 \n",
      " activation_18 (Activation)  (None, 32)                0         \n",
      "                                                                 \n",
      " dropout_18 (Dropout)        (None, 32)                0         \n",
      "                                                                 \n",
      " dense_20 (Dense)            (None, 512)               16896     \n",
      "                                                                 \n",
      " batch_normalization_19 (Ba  (None, 512)               2048      \n",
      " tchNormalization)                                               \n",
      "                                                                 \n",
      " activation_19 (Activation)  (None, 512)               0         \n",
      "                                                                 \n",
      " dropout_19 (Dropout)        (None, 512)               0         \n",
      "                                                                 \n",
      " dense_21 (Dense)            (None, 256)               131328    \n",
      "                                                                 \n",
      " batch_normalization_20 (Ba  (None, 256)               1024      \n",
      " tchNormalization)                                               \n",
      "                                                                 \n",
      " activation_20 (Activation)  (None, 256)               0         \n",
      "                                                                 \n",
      " dropout_20 (Dropout)        (None, 256)               0         \n",
      "                                                                 \n",
      " dense_22 (Dense)            (None, 128)               32896     \n",
      "                                                                 \n",
      " batch_normalization_21 (Ba  (None, 128)               512       \n",
      " tchNormalization)                                               \n",
      "                                                                 \n",
      " activation_21 (Activation)  (None, 128)               0         \n",
      "                                                                 \n",
      " dropout_21 (Dropout)        (None, 128)               0         \n",
      "                                                                 \n",
      " dense_23 (Dense)            (None, 64)                8256      \n",
      "                                                                 \n",
      " batch_normalization_22 (Ba  (None, 64)                256       \n",
      " tchNormalization)                                               \n",
      "                                                                 \n",
      " activation_22 (Activation)  (None, 64)                0         \n",
      "                                                                 \n",
      " dropout_22 (Dropout)        (None, 64)                0         \n",
      "                                                                 \n",
      " dense_24 (Dense)            (None, 32)                2080      \n",
      "                                                                 \n",
      " batch_normalization_23 (Ba  (None, 32)                128       \n",
      " tchNormalization)                                               \n",
      "                                                                 \n",
      " activation_23 (Activation)  (None, 32)                0         \n",
      "                                                                 \n",
      " dropout_23 (Dropout)        (None, 32)                0         \n",
      "                                                                 \n",
      " dense_25 (Dense)            (None, 1)                 33        \n",
      "                                                                 \n",
      "=================================================================\n",
      "Total params: 18282137 (69.74 MB)\n",
      "Trainable params: 18152009 (69.24 MB)\n",
      "Non-trainable params: 130128 (508.31 KB)\n",
      "_________________________________________________________________\n"
     ]
    }
   ],
   "source": [
    "import tensorflow_hub as hub\n",
    "\n",
    "model = tf.keras.Sequential([\n",
    "    # explicitly define the input shape: (250, 250, 3)\n",
    "    tf.keras.layers.InputLayer(input_shape=IMAGE_SIZE + (3,)),\n",
    "    \n",
    "    # set trainable = True for fine tune\n",
    "    hub.KerasLayer(model_handle, trainable = True),\n",
    "    \n",
    "    # dense layer 1\n",
    "    tf.keras.layers.Dense(units=32),\n",
    "    tf.keras.layers.BatchNormalization(),\n",
    "    tf.keras.layers.Activation(\"relu\"),\n",
    "    tf.keras.layers.Dropout(0.5),\n",
    "    \n",
    "    # dense layer 2\n",
    "    tf.keras.layers.Dense(units=64),\n",
    "    tf.keras.layers.BatchNormalization(),\n",
    "    tf.keras.layers.Activation(\"relu\"),\n",
    "    tf.keras.layers.Dropout(0.5),\n",
    "    \n",
    "    # dense layer 3\n",
    "    tf.keras.layers.Dense(units=128),\n",
    "    tf.keras.layers.BatchNormalization(),\n",
    "    tf.keras.layers.Activation(\"leaky_relu\"),\n",
    "    tf.keras.layers.Dropout(0.5),\n",
    "    \n",
    "    # dense layer 4\n",
    "    tf.keras.layers.Dense(units=256),\n",
    "    tf.keras.layers.BatchNormalization(),\n",
    "    tf.keras.layers.Activation(\"relu\"),\n",
    "    tf.keras.layers.Dropout(0.5),\n",
    "    \n",
    "    # dense layer 5\n",
    "    tf.keras.layers.Dense(units=512),\n",
    "    tf.keras.layers.BatchNormalization(),\n",
    "    tf.keras.layers.Activation(\"leaky_relu\"),\n",
    "    tf.keras.layers.Dropout(0.5),\n",
    "    \n",
    "    # dense layer 6\n",
    "    tf.keras.layers.Dense(units=256),\n",
    "    tf.keras.layers.BatchNormalization(),\n",
    "    tf.keras.layers.Activation(\"relu\"),\n",
    "    tf.keras.layers.Dropout(0.5),\n",
    "    \n",
    "    # dense layer 7\n",
    "    tf.keras.layers.Dense(units=128),\n",
    "    tf.keras.layers.BatchNormalization(),\n",
    "    tf.keras.layers.Activation(\"relu\"),\n",
    "    tf.keras.layers.Dropout(0.5),\n",
    "    \n",
    "    # dense layer 8\n",
    "    tf.keras.layers.Dense(units=64),\n",
    "    tf.keras.layers.BatchNormalization(),\n",
    "    tf.keras.layers.Activation(\"relu\"),\n",
    "    tf.keras.layers.Dropout(0.5),\n",
    "    \n",
    "    # dense layer 9\n",
    "    tf.keras.layers.Dense(units=32),\n",
    "    tf.keras.layers.BatchNormalization(),\n",
    "    tf.keras.layers.Activation(\"relu\"),\n",
    "    tf.keras.layers.Dropout(0.5),\n",
    "    \n",
    "    # dense layer 10\n",
    "    tf.keras.layers.Dense(units=512),\n",
    "    tf.keras.layers.BatchNormalization(),\n",
    "    tf.keras.layers.Activation(\"leaky_relu\"),\n",
    "    tf.keras.layers.Dropout(0.5),\n",
    "    \n",
    "    # dense layer 11\n",
    "    tf.keras.layers.Dense(units=256),\n",
    "    tf.keras.layers.BatchNormalization(),\n",
    "    tf.keras.layers.Activation(\"leaky_relu\"),\n",
    "    tf.keras.layers.Dropout(0.6),\n",
    "    \n",
    "    # dense layer 12\n",
    "    tf.keras.layers.Dense(units=128),\n",
    "    tf.keras.layers.BatchNormalization(),\n",
    "    tf.keras.layers.Activation(\"leaky_relu\"),\n",
    "    tf.keras.layers.Dropout(0.7),\n",
    "    \n",
    "    # dense layer 13\n",
    "    tf.keras.layers.Dense(units=64),\n",
    "    tf.keras.layers.BatchNormalization(),\n",
    "    tf.keras.layers.Activation(\"relu\"),\n",
    "    tf.keras.layers.Dropout(0.25),\n",
    "    \n",
    "    # dense layer 14\n",
    "    tf.keras.layers.Dense(units=32),\n",
    "    tf.keras.layers.BatchNormalization(),\n",
    "    tf.keras.layers.Activation(\"relu\"),\n",
    "    tf.keras.layers.Dropout(0.25),\n",
    "    \n",
    "    # dense layer 15, output layer\n",
    "    tf.keras.layers.Dense(units=1, activation='relu') # dimension for output is 1 for regression problem\n",
    "])\n",
    "model.build((None,)+IMAGE_SIZE+(3,))\n",
    "\n",
    "# check the model structure\n",
    "model.summary()"
   ]
  },
  {
   "cell_type": "code",
   "execution_count": 18,
   "metadata": {
    "execution": {
     "iopub.execute_input": "2023-12-05T05:03:14.311390Z",
     "iopub.status.busy": "2023-12-05T05:03:14.310512Z",
     "iopub.status.idle": "2023-12-05T05:03:14.335904Z",
     "shell.execute_reply": "2023-12-05T05:03:14.334946Z",
     "shell.execute_reply.started": "2023-12-05T05:03:14.311353Z"
    }
   },
   "outputs": [],
   "source": [
    "# compile the model, using 'mse' as loss function\n",
    "# since this version is dealing with regression problem\n",
    "model.compile(optimizer='nadam',\n",
    "              loss='mse',\n",
    "              metrics=[tf.keras.metrics.RootMeanSquaredError()])"
   ]
  },
  {
   "cell_type": "markdown",
   "metadata": {},
   "source": [
    "### In the model training phase, we only extract epochs from 8-30 and set early stop to avoid overfitting  \n",
    "We did this by setting initial_epoch to get more stable outcome"
   ]
  },
  {
   "cell_type": "code",
   "execution_count": 20,
   "metadata": {
    "execution": {
     "iopub.execute_input": "2023-12-05T05:03:22.065778Z",
     "iopub.status.busy": "2023-12-05T05:03:22.064877Z",
     "iopub.status.idle": "2023-12-05T05:29:47.228592Z",
     "shell.execute_reply": "2023-12-05T05:29:47.227428Z",
     "shell.execute_reply.started": "2023-12-05T05:03:22.065740Z"
    }
   },
   "outputs": [
    {
     "name": "stdout",
     "output_type": "stream",
     "text": [
      "Epoch 8/30\n",
      "247/247 [==============================] - 314s 590ms/step - loss: 1669.7002 - root_mean_squared_error: 40.8588 - val_loss: 1848.7576 - val_root_mean_squared_error: 42.9941\n",
      "Epoch 9/30\n",
      "247/247 [==============================] - 141s 567ms/step - loss: 1192.0747 - root_mean_squared_error: 34.5226 - val_loss: 80995.6250 - val_root_mean_squared_error: 284.5968\n",
      "Epoch 10/30\n",
      "247/247 [==============================] - 141s 571ms/step - loss: 717.9319 - root_mean_squared_error: 26.7892 - val_loss: 583.4852 - val_root_mean_squared_error: 24.1498\n",
      "Epoch 11/30\n",
      "247/247 [==============================] - 141s 569ms/step - loss: 506.7095 - root_mean_squared_error: 22.5041 - val_loss: 426.6828 - val_root_mean_squared_error: 20.6496\n",
      "Epoch 12/30\n",
      "247/247 [==============================] - 139s 560ms/step - loss: 468.0057 - root_mean_squared_error: 21.6270 - val_loss: 427.3836 - val_root_mean_squared_error: 20.6665\n",
      "Epoch 13/30\n",
      "247/247 [==============================] - 140s 566ms/step - loss: 470.0680 - root_mean_squared_error: 21.6746 - val_loss: 426.0973 - val_root_mean_squared_error: 20.6353\n",
      "Epoch 14/30\n",
      "247/247 [==============================] - 140s 566ms/step - loss: 458.6443 - root_mean_squared_error: 21.4094 - val_loss: 438.4631 - val_root_mean_squared_error: 20.9327\n",
      "Epoch 15/30\n",
      "247/247 [==============================] - 141s 571ms/step - loss: 461.9837 - root_mean_squared_error: 21.4871 - val_loss: 428.4690 - val_root_mean_squared_error: 20.6925\n",
      "Epoch 16/30\n",
      "247/247 [==============================] - 141s 570ms/step - loss: 468.0606 - root_mean_squared_error: 21.6281 - val_loss: 427.2888 - val_root_mean_squared_error: 20.6640\n",
      "Epoch 17/30\n",
      "247/247 [==============================] - 145s 586ms/step - loss: 457.7862 - root_mean_squared_error: 21.3892 - val_loss: 587.8098 - val_root_mean_squared_error: 24.2388\n"
     ]
    }
   ],
   "source": [
    "# train the model\n",
    "# we still use the early stopping as defined previously\n",
    "history = model.fit(\n",
    "    train_generator, \n",
    "    steps_per_epoch = len(X_train) // batch_size, \n",
    "    epochs=30, \n",
    "    initial_epoch = 7,\n",
    "    validation_data=val_generator, \n",
    "    validation_steps = len(X_val) // batch_size, \n",
    "    callbacks=[early_stopping])"
   ]
  },
  {
   "cell_type": "markdown",
   "metadata": {},
   "source": [
    "### Save the model for future useage"
   ]
  },
  {
   "cell_type": "code",
   "execution_count": 24,
   "metadata": {
    "execution": {
     "iopub.execute_input": "2023-12-05T05:32:56.746192Z",
     "iopub.status.busy": "2023-12-05T05:32:56.745268Z",
     "iopub.status.idle": "2023-12-05T05:32:58.671828Z",
     "shell.execute_reply": "2023-12-05T05:32:58.670806Z",
     "shell.execute_reply.started": "2023-12-05T05:32:56.746125Z"
    }
   },
   "outputs": [],
   "source": [
    "# save the entire model as a `.keras` zip archive\n",
    "model.save('/kaggle/working/1204_efficientnetv2-b4_8-30_epochs_early_stop.keras')"
   ]
  },
  {
   "cell_type": "markdown",
   "metadata": {},
   "source": [
    "### Visualize training and validation loss"
   ]
  },
  {
   "cell_type": "code",
   "execution_count": 23,
   "metadata": {
    "execution": {
     "iopub.execute_input": "2023-12-05T05:32:29.164731Z",
     "iopub.status.busy": "2023-12-05T05:32:29.164039Z",
     "iopub.status.idle": "2023-12-05T05:32:29.788167Z",
     "shell.execute_reply": "2023-12-05T05:32:29.787166Z",
     "shell.execute_reply.started": "2023-12-05T05:32:29.164696Z"
    }
   },
   "outputs": [
    {
     "data": {
      "image/png": "[encoded data removed]",
      "text/plain": [
       "<Figure size 640x480 with 1 Axes>"
      ]
     },
     "metadata": {},
     "output_type": "display_data"
    },
    {
     "data": {
      "image/png": "[encoded data removed]",
      "text/plain": [
       "<Figure size 640x480 with 1 Axes>"
      ]
     },
     "metadata": {},
     "output_type": "display_data"
    }
   ],
   "source": [
    "# plot the train and val curve\n",
    "\n",
    "rmse = history.history['root_mean_squared_error']\n",
    "val_rmse = history.history['val_root_mean_squared_error']\n",
    "loss = history.history['loss']\n",
    "val_loss = history.history['val_loss']\n",
    "\n",
    "epochs = range(1, len(rmse) + 1)\n",
    "\n",
    "#Train and validation accuracy\n",
    "plt.plot(epochs, rmse, 'b', label='Training RMSE')\n",
    "plt.plot(epochs, val_rmse, 'r', label='Validation RMSE')\n",
    "plt.title('Training and Validation RMSE')\n",
    "plt.xlabel('epochs')\n",
    "plt.ylabel('RMSE')\n",
    "plt.legend()\n",
    "\n",
    "plt.figure()\n",
    "#Train and validation loss\n",
    "plt.plot(epochs, loss, 'b', label='Training loss')\n",
    "plt.plot(epochs, val_loss, 'r', label='Validation loss')\n",
    "plt.title('Training and Validation loss')\n",
    "plt.xlabel('epochs')\n",
    "plt.ylabel('RMSE')\n",
    "plt.legend()\n",
    "\n",
    "plt.show()"
   ]
  },
  {
   "cell_type": "markdown",
   "metadata": {},
   "source": [
    "### Summary for model training\n",
    "1. Loss in training set and validation set follows similar patterns, both skyrocket in the second epoch and falls back.  \n",
    "   That's why we don't want to use the first several epochs; they are unstable.  \n",
    "2. The training process was interrupted by early stopping after 21 epochs, so we got 8-21 epochs.  \n",
    "3. The performance in RMSE is better than self-built CNN since they are around 20 (just interrupt when rising to 24).  \n",
    "   So we decided to use this model for prediction.  "
   ]
  },
  {
   "cell_type": "markdown",
   "metadata": {},
   "source": [
    "# Do prediciton on testing set"
   ]
  },
  {
   "cell_type": "code",
   "execution_count": 25,
   "metadata": {
    "execution": {
     "iopub.execute_input": "2023-12-05T05:34:08.036562Z",
     "iopub.status.busy": "2023-12-05T05:34:08.035652Z",
     "iopub.status.idle": "2023-12-05T05:34:08.041121Z",
     "shell.execute_reply": "2023-12-05T05:34:08.040204Z",
     "shell.execute_reply.started": "2023-12-05T05:34:08.036526Z"
    }
   },
   "outputs": [],
   "source": [
    "# load the model for next time\n",
    "reloaded_model = tf.keras.models.load_model('/kaggle/working/1204_efficientnetv2-b4_8-30_epochs_early_stop.keras')"
   ]
  },
  {
   "cell_type": "markdown",
   "metadata": {},
   "source": [
    "### Read in testing images"
   ]
  },
  {
   "cell_type": "code",
   "execution_count": 26,
   "metadata": {
    "execution": {
     "iopub.execute_input": "2023-12-05T05:34:16.592183Z",
     "iopub.status.busy": "2023-12-05T05:34:16.591798Z",
     "iopub.status.idle": "2023-12-05T05:34:16.604053Z",
     "shell.execute_reply": "2023-12-05T05:34:16.603167Z",
     "shell.execute_reply.started": "2023-12-05T05:34:16.592142Z"
    }
   },
   "outputs": [],
   "source": [
    "test_dir = '/kaggle/input/petfinder-pawpularity-score/test'\n",
    "test_imgs = ['/kaggle/input/petfinder-pawpularity-score/test/{}'.format(i) for i in os.listdir(test_dir)] # get test images"
   ]
  },
  {
   "cell_type": "code",
   "execution_count": 27,
   "metadata": {
    "execution": {
     "iopub.execute_input": "2023-12-05T05:34:22.806167Z",
     "iopub.status.busy": "2023-12-05T05:34:22.805793Z",
     "iopub.status.idle": "2023-12-05T05:34:22.920005Z",
     "shell.execute_reply": "2023-12-05T05:34:22.919006Z",
     "shell.execute_reply.started": "2023-12-05T05:34:22.806122Z"
    }
   },
   "outputs": [],
   "source": [
    "# process the test set\n",
    "X_test = read_and_process_image_test(test_imgs) \n",
    "\n",
    "# convert list to numpy array\n",
    "X_test = np.array(X_test)\n",
    "\n",
    "# augmentation\n",
    "test_datagen = ImageDataGenerator(rescale=1./255)\n",
    "test_generator = test_datagen.flow(X_test) # after rescaling for the colors"
   ]
  },
  {
   "cell_type": "markdown",
   "metadata": {},
   "source": [
    "### Set up Id for DataFrame building"
   ]
  },
  {
   "cell_type": "code",
   "execution_count": 28,
   "metadata": {
    "execution": {
     "iopub.execute_input": "2023-12-05T05:34:25.674746Z",
     "iopub.status.busy": "2023-12-05T05:34:25.674350Z",
     "iopub.status.idle": "2023-12-05T05:34:25.680063Z",
     "shell.execute_reply": "2023-12-05T05:34:25.679013Z",
     "shell.execute_reply.started": "2023-12-05T05:34:25.674718Z"
    }
   },
   "outputs": [],
   "source": [
    "Id = []\n",
    "\n",
    "for i in range(len(test_imgs)):\n",
    "    id = test_imgs[i].split('test/')[1].split('.')[0]\n",
    "    Id.append(id)"
   ]
  },
  {
   "cell_type": "code",
   "execution_count": 29,
   "metadata": {
    "execution": {
     "iopub.execute_input": "2023-12-05T05:34:27.784354Z",
     "iopub.status.busy": "2023-12-05T05:34:27.783989Z",
     "iopub.status.idle": "2023-12-05T05:34:27.790399Z",
     "shell.execute_reply": "2023-12-05T05:34:27.789494Z",
     "shell.execute_reply.started": "2023-12-05T05:34:27.784324Z"
    }
   },
   "outputs": [
    {
     "data": {
      "text/plain": [
       "['c978013571258ed6d4637f6e8cc9d6a3',\n",
       " '4e429cead1848a298432a0acad014c9d',\n",
       " '43a2262d7738e3d420d453815151079e',\n",
       " '8f49844c382931444e68dffbe20228f4',\n",
       " '4128bae22183829d2b5fea10effdb0c3',\n",
       " '80bc3ccafcc51b66303c2c263aa38486',\n",
       " 'e0de453c1bffc20c22b072b34b54e50f',\n",
       " 'b03f7041962238a7c9d6537e22f9b017']"
      ]
     },
     "execution_count": 29,
     "metadata": {},
     "output_type": "execute_result"
    }
   ],
   "source": [
    "Id"
   ]
  },
  {
   "cell_type": "markdown",
   "metadata": {},
   "source": [
    "### Predict on test set"
   ]
  },
  {
   "cell_type": "code",
   "execution_count": 30,
   "metadata": {
    "execution": {
     "iopub.execute_input": "2023-12-05T05:34:30.740048Z",
     "iopub.status.busy": "2023-12-05T05:34:30.739680Z",
     "iopub.status.idle": "2023-12-05T05:34:33.842442Z",
     "shell.execute_reply": "2023-12-05T05:34:33.841405Z",
     "shell.execute_reply.started": "2023-12-05T05:34:30.740019Z"
    }
   },
   "outputs": [
    {
     "name": "stdout",
     "output_type": "stream",
     "text": [
      "1/1 [==============================] - 3s 3s/step\n"
     ]
    }
   ],
   "source": [
    "outcome = reloaded_model.predict(test_generator)"
   ]
  },
  {
   "cell_type": "markdown",
   "metadata": {},
   "source": [
    "### Construct the Pawpularity array to record the scores"
   ]
  },
  {
   "cell_type": "code",
   "execution_count": 31,
   "metadata": {
    "execution": {
     "iopub.execute_input": "2023-12-05T05:34:44.563076Z",
     "iopub.status.busy": "2023-12-05T05:34:44.562137Z",
     "iopub.status.idle": "2023-12-05T05:34:44.567876Z",
     "shell.execute_reply": "2023-12-05T05:34:44.566763Z",
     "shell.execute_reply.started": "2023-12-05T05:34:44.563042Z"
    }
   },
   "outputs": [],
   "source": [
    "Pawpularity = []\n",
    "\n",
    "for i in range(len(test_imgs)):\n",
    "    pawpularity = outcome[i].item()\n",
    "    Pawpularity.append(pawpularity)"
   ]
  },
  {
   "cell_type": "code",
   "execution_count": 32,
   "metadata": {
    "execution": {
     "iopub.execute_input": "2023-12-05T05:34:56.573215Z",
     "iopub.status.busy": "2023-12-05T05:34:56.572806Z",
     "iopub.status.idle": "2023-12-05T05:34:56.579826Z",
     "shell.execute_reply": "2023-12-05T05:34:56.578780Z",
     "shell.execute_reply.started": "2023-12-05T05:34:56.573180Z"
    }
   },
   "outputs": [
    {
     "data": {
      "text/plain": [
       "[38.98554611206055,\n",
       " 38.98340606689453,\n",
       " 38.982887268066406,\n",
       " 38.971656799316406,\n",
       " 38.984466552734375,\n",
       " 38.98414611816406,\n",
       " 38.97465133666992,\n",
       " 38.986270904541016]"
      ]
     },
     "execution_count": 32,
     "metadata": {},
     "output_type": "execute_result"
    }
   ],
   "source": [
    "Pawpularity"
   ]
  },
  {
   "cell_type": "markdown",
   "metadata": {},
   "source": [
    "### Now let's build the dataframe to save as a csv file"
   ]
  },
  {
   "cell_type": "code",
   "execution_count": 35,
   "metadata": {
    "execution": {
     "iopub.execute_input": "2023-12-05T05:35:12.173864Z",
     "iopub.status.busy": "2023-12-05T05:35:12.173504Z",
     "iopub.status.idle": "2023-12-05T05:35:12.185383Z",
     "shell.execute_reply": "2023-12-05T05:35:12.184325Z",
     "shell.execute_reply.started": "2023-12-05T05:35:12.173836Z"
    }
   },
   "outputs": [
    {
     "data": {
      "text/html": [
       "<div>\n",
       "<style scoped>\n",
       "    .dataframe tbody tr th:only-of-type {\n",
       "        vertical-align: middle;\n",
       "    }\n",
       "\n",
       "    .dataframe tbody tr th {\n",
       "        vertical-align: top;\n",
       "    }\n",
       "\n",
       "    .dataframe thead th {\n",
       "        text-align: right;\n",
       "    }\n",
       "</style>\n",
       "<table border=\"1\" class=\"dataframe\">\n",
       "  <thead>\n",
       "    <tr style=\"text-align: right;\">\n",
       "      <th></th>\n",
       "      <th>Id</th>\n",
       "      <th>Pawpularity</th>\n",
       "    </tr>\n",
       "  </thead>\n",
       "  <tbody>\n",
       "    <tr>\n",
       "      <th>0</th>\n",
       "      <td>c978013571258ed6d4637f6e8cc9d6a3</td>\n",
       "      <td>38.985546</td>\n",
       "    </tr>\n",
       "    <tr>\n",
       "      <th>1</th>\n",
       "      <td>4e429cead1848a298432a0acad014c9d</td>\n",
       "      <td>38.983406</td>\n",
       "    </tr>\n",
       "    <tr>\n",
       "      <th>2</th>\n",
       "      <td>43a2262d7738e3d420d453815151079e</td>\n",
       "      <td>38.982887</td>\n",
       "    </tr>\n",
       "    <tr>\n",
       "      <th>3</th>\n",
       "      <td>8f49844c382931444e68dffbe20228f4</td>\n",
       "      <td>38.971657</td>\n",
       "    </tr>\n",
       "    <tr>\n",
       "      <th>4</th>\n",
       "      <td>4128bae22183829d2b5fea10effdb0c3</td>\n",
       "      <td>38.984467</td>\n",
       "    </tr>\n",
       "    <tr>\n",
       "      <th>5</th>\n",
       "      <td>80bc3ccafcc51b66303c2c263aa38486</td>\n",
       "      <td>38.984146</td>\n",
       "    </tr>\n",
       "    <tr>\n",
       "      <th>6</th>\n",
       "      <td>e0de453c1bffc20c22b072b34b54e50f</td>\n",
       "      <td>38.974651</td>\n",
       "    </tr>\n",
       "    <tr>\n",
       "      <th>7</th>\n",
       "      <td>b03f7041962238a7c9d6537e22f9b017</td>\n",
       "      <td>38.986271</td>\n",
       "    </tr>\n",
       "  </tbody>\n",
       "</table>\n",
       "</div>"
      ],
      "text/plain": [
       "                                 Id  Pawpularity\n",
       "0  c978013571258ed6d4637f6e8cc9d6a3    38.985546\n",
       "1  4e429cead1848a298432a0acad014c9d    38.983406\n",
       "2  43a2262d7738e3d420d453815151079e    38.982887\n",
       "3  8f49844c382931444e68dffbe20228f4    38.971657\n",
       "4  4128bae22183829d2b5fea10effdb0c3    38.984467\n",
       "5  80bc3ccafcc51b66303c2c263aa38486    38.984146\n",
       "6  e0de453c1bffc20c22b072b34b54e50f    38.974651\n",
       "7  b03f7041962238a7c9d6537e22f9b017    38.986271"
      ]
     },
     "execution_count": 35,
     "metadata": {},
     "output_type": "execute_result"
    }
   ],
   "source": [
    "dic = {'Id': Id, 'Pawpularity': Pawpularity}\n",
    "result = pd.DataFrame(dic)\n",
    "result.head(10)"
   ]
  },
  {
   "attachments": {
    "image.png": {
     "image/png": "[encoded data removed]"
    }
   },
   "cell_type": "markdown",
   "metadata": {},
   "source": [
    "![image.png](attachment:image.png)"
   ]
  },
  {
   "cell_type": "markdown",
   "metadata": {},
   "source": [
    "### The grade we get in the end, the best among all other models we've tried"
   ]
  },
  {
   "cell_type": "code",
   "execution_count": 36,
   "metadata": {
    "execution": {
     "iopub.execute_input": "2023-12-05T05:35:24.022715Z",
     "iopub.status.busy": "2023-12-05T05:35:24.021711Z",
     "iopub.status.idle": "2023-12-05T05:35:24.030068Z",
     "shell.execute_reply": "2023-12-05T05:35:24.028994Z",
     "shell.execute_reply.started": "2023-12-05T05:35:24.022676Z"
    }
   },
   "outputs": [],
   "source": [
    "# save the DataFrame to a csv file for submission\n",
    "result.to_csv('submission.csv', index=False)"
   ]
  },
  {
   "cell_type": "markdown",
   "metadata": {},
   "source": [
    "# This is the end of the notebook"
   ]
  }
 ],
 "metadata": {
  "colab": {
   "provenance": []
  },
  "kaggle": {
   "accelerator": "gpu",
   "dataSources": [
    {
     "databundleVersionId": 2684322,
     "sourceId": 25383,
     "sourceType": "competition"
    },
    {
     "datasetId": 4072304,
     "sourceId": 7071342,
     "sourceType": "datasetVersion"
    },
    {
     "datasetId": 4072333,
     "sourceId": 7071376,
     "sourceType": "datasetVersion"
    },
    {
     "datasetId": 4072361,
     "sourceId": 7071409,
     "sourceType": "datasetVersion"
    },
    {
     "datasetId": 4082943,
     "sourceId": 7086421,
     "sourceType": "datasetVersion"
    },
    {
     "datasetId": 4095069,
     "sourceId": 7103599,
     "sourceType": "datasetVersion"
    },
    {
     "datasetId": 4095093,
     "sourceId": 7103629,
     "sourceType": "datasetVersion"
    },
    {
     "modelInstanceId": 846,
     "sourceId": 992,
     "sourceType": "modelInstanceVersion"
    },
    {
     "modelInstanceId": 847,
     "sourceId": 993,
     "sourceType": "modelInstanceVersion"
    },
    {
     "isSourceIdPinned": true,
     "modelInstanceId": 1919,
     "sourceId": 2653,
     "sourceType": "modelInstanceVersion"
    },
    {
     "modelInstanceId": 1920,
     "sourceId": 2654,
     "sourceType": "modelInstanceVersion"
    },
    {
     "modelInstanceId": 1926,
     "sourceId": 2660,
     "sourceType": "modelInstanceVersion"
    }
   ],
   "dockerImageVersionId": 30587,
   "isGpuEnabled": true,
   "isInternetEnabled": false,
   "language": "python",
   "sourceType": "notebook"
  },
  "kernelspec": {
   "display_name": "Python 3",
   "language": "python",
   "name": "python3"
  },
  "language_info": {
   "codemirror_mode": {
    "name": "ipython",
    "version": 3
   },
   "file_extension": ".py",
   "mimetype": "text/x-python",
   "name": "python",
   "nbconvert_exporter": "python",
   "pygments_lexer": "ipython3",
   "version": "3.8.8"
  }
 },
 "nbformat": 4,
 "nbformat_minor": 4
}
