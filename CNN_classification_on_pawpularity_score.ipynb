{
 "cells": [
  {
   "cell_type": "markdown",
   "metadata": {},
   "source": [
    "# Only need to execute this notebook in kaggle \n",
    "We trained the model, generated the prediction, then saved the output as submission.csv for scoring"
   ]
  },
  {
   "cell_type": "code",
   "execution_count": 2,
   "metadata": {
    "execution": {
     "iopub.execute_input": "2023-12-05T14:51:18.663793Z",
     "iopub.status.busy": "2023-12-05T14:51:18.663446Z",
     "iopub.status.idle": "2023-12-05T14:51:22.048838Z",
     "shell.execute_reply": "2023-12-05T14:51:22.047804Z",
     "shell.execute_reply.started": "2023-12-05T14:51:18.663768Z"
    },
    "id": "4QVmLf-GatMj",
    "outputId": "51ff667d-99d1-4c3b-d136-141f816ef11e"
   },
   "outputs": [],
   "source": [
    "import numpy as np\n",
    "import pandas as pd\n",
    "import cv2\n",
    "import torchvision.transforms as transforms\n",
    "import time\n",
    "import os\n",
    "import random\n",
    "import matplotlib.pyplot as plt\n",
    "%matplotlib inline\n",
    "import gc # aarbage collector to clean uesless data from memory\n",
    "\n",
    "pd.options.display.max_columns = None\n",
    "pd.options.display.max_rows = None\n",
    "\n",
    "# have checked that we can appropriately ignore warnings\n",
    "import warnings\n",
    "warnings.filterwarnings('ignore') # ignore warnings"
   ]
  },
  {
   "cell_type": "markdown",
   "metadata": {},
   "source": [
    "### Set up the array generating function for later usage"
   ]
  },
  {
   "cell_type": "code",
   "execution_count": 3,
   "metadata": {
    "execution": {
     "iopub.execute_input": "2023-12-05T14:51:24.519508Z",
     "iopub.status.busy": "2023-12-05T14:51:24.519015Z",
     "iopub.status.idle": "2023-12-05T14:51:24.525875Z",
     "shell.execute_reply": "2023-12-05T14:51:24.524734Z",
     "shell.execute_reply.started": "2023-12-05T14:51:24.519480Z"
    }
   },
   "outputs": [],
   "source": [
    "# for test set only\n",
    "# declare our image dimensions using color images\n",
    "\n",
    "img_size = 250\n",
    "channels = 3  # change to 1 if need to use grayscale image\n",
    "\n",
    "# define function to read and process the images to an acceptable format for our model\n",
    "def read_and_process_image_test(list_of_images):\n",
    "    X = [] # an array of resized images\n",
    "    for i, image in enumerate(list_of_images):\n",
    "        X.append(cv2.resize(cv2.imread(image, cv2.IMREAD_COLOR), (img_size, img_size), interpolation=cv2.INTER_CUBIC)) # read in the image\n",
    "\n",
    "    return X"
   ]
  },
  {
   "cell_type": "markdown",
   "metadata": {
    "id": "iu0UNfp05CB1"
   },
   "source": [
    "# Load in the training array and label\n",
    "We have to up load them to the input section of kaggle notebook first, so we can load the preprocessed training set array:   \n",
    "1. image size = 250 pixel * 250 pixels  \n",
    "2. The categorical label has already been preprocessed using one hot encoding"
   ]
  },
  {
   "cell_type": "code",
   "execution_count": 4,
   "metadata": {
    "execution": {
     "iopub.execute_input": "2023-12-05T14:51:27.823997Z",
     "iopub.status.busy": "2023-12-05T14:51:27.822910Z",
     "iopub.status.idle": "2023-12-05T14:51:47.135080Z",
     "shell.execute_reply": "2023-12-05T14:51:47.134131Z",
     "shell.execute_reply.started": "2023-12-05T14:51:27.823963Z"
    }
   },
   "outputs": [
    {
     "name": "stdout",
     "output_type": "stream",
     "text": [
      "shape of train images: (9912, 250, 250, 3)\n",
      "shape of labels: (9912, 100)\n"
     ]
    }
   ],
   "source": [
    "X_TRAIN = np.load(\"/kaggle/input/training250/training_X.npy\", allow_pickle = True)\n",
    "y_TRAIN = pd.read_csv(\"/kaggle/input/categorical-score-no-metadata/with_category_score.csv\")\n",
    "\n",
    "print(\"shape of train images:\", X_TRAIN.shape)\n",
    "print(\"shape of labels:\", y_TRAIN.shape)"
   ]
  },
  {
   "cell_type": "code",
   "execution_count": 5,
   "metadata": {
    "execution": {
     "iopub.execute_input": "2023-12-05T14:51:47.137482Z",
     "iopub.status.busy": "2023-12-05T14:51:47.136575Z",
     "iopub.status.idle": "2023-12-05T14:51:47.407732Z",
     "shell.execute_reply": "2023-12-05T14:51:47.406762Z",
     "shell.execute_reply.started": "2023-12-05T14:51:47.137454Z"
    },
    "id": "R_oQl9Gex4d7"
   },
   "outputs": [
    {
     "name": "stdout",
     "output_type": "stream",
     "text": [
      "shape of train images: (7929, 250, 250, 3)\n",
      "shape of validation images: (1983, 250, 250, 3)\n",
      "shape of labels: (7929, 100)\n",
      "shape of labels: (1983, 100)\n"
     ]
    }
   ],
   "source": [
    "# split the data into train and validation set\n",
    "from sklearn.model_selection import train_test_split\n",
    "X_train, X_val, y_train, y_val = train_test_split(X_TRAIN, y_TRAIN, test_size=0.20, random_state=42)\n",
    "\n",
    "print(\"shape of train images:\", X_train.shape)\n",
    "print(\"shape of validation images:\", X_val.shape)\n",
    "print(\"shape of labels:\", y_train.shape)\n",
    "print(\"shape of labels:\", y_val.shape)"
   ]
  },
  {
   "cell_type": "code",
   "execution_count": 5,
   "metadata": {
    "execution": {
     "iopub.execute_input": "2023-12-05T06:52:09.412636Z",
     "iopub.status.busy": "2023-12-05T06:52:09.412269Z",
     "iopub.status.idle": "2023-12-05T06:52:09.416657Z",
     "shell.execute_reply": "2023-12-05T06:52:09.415792Z",
     "shell.execute_reply.started": "2023-12-05T06:52:09.412598Z"
    },
    "id": "F-3_UyJtx6oH"
   },
   "outputs": [],
   "source": [
    "# set up small batch to avoid run out of memory when allocating\n",
    "batch_size = 32"
   ]
  },
  {
   "cell_type": "code",
   "execution_count": 6,
   "metadata": {
    "execution": {
     "iopub.execute_input": "2023-12-05T14:51:49.967235Z",
     "iopub.status.busy": "2023-12-05T14:51:49.966640Z",
     "iopub.status.idle": "2023-12-05T14:51:50.095349Z",
     "shell.execute_reply": "2023-12-05T14:51:50.094376Z",
     "shell.execute_reply.started": "2023-12-05T14:51:49.967209Z"
    }
   },
   "outputs": [
    {
     "data": {
      "text/plain": [
       "4"
      ]
     },
     "execution_count": 6,
     "metadata": {},
     "output_type": "execute_result"
    }
   ],
   "source": [
    "# clear useless variables to save memory\n",
    "del X_TRAIN\n",
    "del y_TRAIN\n",
    "gc.collect()"
   ]
  },
  {
   "cell_type": "markdown",
   "metadata": {},
   "source": [
    "# Image augmentation"
   ]
  },
  {
   "cell_type": "code",
   "execution_count": 8,
   "metadata": {
    "execution": {
     "iopub.execute_input": "2023-12-05T06:52:29.291013Z",
     "iopub.status.busy": "2023-12-05T06:52:29.290366Z",
     "iopub.status.idle": "2023-12-05T06:52:31.058620Z",
     "shell.execute_reply": "2023-12-05T06:52:31.057717Z",
     "shell.execute_reply.started": "2023-12-05T06:52:29.290980Z"
    }
   },
   "outputs": [],
   "source": [
    "from tensorflow.keras.preprocessing.image import ImageDataGenerator\n",
    "\n",
    "# this would helps prevent overfitting, since we are using a small dataset\n",
    "train_datagen = ImageDataGenerator(rescale = 1./255,   # scale the image between 0 and 1\n",
    "                                   rotation_range = 60,\n",
    "                                   width_shift_range = 1.0,\n",
    "                                   height_shift_range = 1.0,\n",
    "                                   shear_range = 0.4,\n",
    "                                   zoom_range = [0.1, 2],\n",
    "                                   horizontal_flip = True,\n",
    "                                   vertical_flip = True,\n",
    "                                   fill_mode='nearest')\n",
    "\n",
    "val_datagen = ImageDataGenerator(rescale = 1./255)  # do not augment validation data. we only perform rescale\n",
    "\n",
    "# create the image generators\n",
    "train_generator = train_datagen.flow(X_train, y_train, batch_size=batch_size)\n",
    "val_generator = val_datagen.flow(X_val, y_val, batch_size=batch_size)"
   ]
  },
  {
   "cell_type": "markdown",
   "metadata": {},
   "source": [
    "# Import modules for model training"
   ]
  },
  {
   "cell_type": "code",
   "execution_count": 17,
   "metadata": {
    "execution": {
     "iopub.execute_input": "2023-12-05T14:54:01.544076Z",
     "iopub.status.busy": "2023-12-05T14:54:01.543761Z",
     "iopub.status.idle": "2023-12-05T14:54:12.537486Z",
     "shell.execute_reply": "2023-12-05T14:54:12.536501Z",
     "shell.execute_reply.started": "2023-12-05T14:54:01.544052Z"
    }
   },
   "outputs": [],
   "source": [
    "import keras\n",
    "import tensorflow as tf\n",
    "from tensorflow.keras.models import Sequential, Model\n",
    "from tensorflow.keras.layers import BatchNormalization, Dropout, Flatten, Dense, Activation\n",
    "from tensorflow.keras.callbacks import EarlyStopping"
   ]
  },
  {
   "cell_type": "markdown",
   "metadata": {},
   "source": [
    "# Self-built CNN  \n",
    "(already be demonstrated in the regression version so skip here)"
   ]
  },
  {
   "cell_type": "markdown",
   "metadata": {},
   "source": [
    "# Pretrained Keras model: EfficientNetB4 (version for classification)\n",
    "### Among all the model we've tried (listed in the appendix), this model gave us the best result in test set\n",
    "Since the submission of the notebook can't connect to the internet, we can't use the code like:  \n",
    "\"  pretrained_model = EfficientNetB4(include_top = False, weights = 'imagenet', input_shape=(img_size, img_size, 3)) \"  \n",
    "since this will need to connect to ImageNet to load the weight  "
   ]
  },
  {
   "cell_type": "code",
   "execution_count": 10,
   "metadata": {
    "execution": {
     "iopub.execute_input": "2023-12-05T06:52:42.687556Z",
     "iopub.status.busy": "2023-12-05T06:52:42.687174Z",
     "iopub.status.idle": "2023-12-05T06:52:42.693559Z",
     "shell.execute_reply": "2023-12-05T06:52:42.692662Z",
     "shell.execute_reply.started": "2023-12-05T06:52:42.687527Z"
    }
   },
   "outputs": [
    {
     "name": "stdout",
     "output_type": "stream",
     "text": [
      "selected model path: efficientnetv2-b4 : /kaggle/input/efficientnet/tensorflow2/b4-classification/1\n",
      "input size (250, 250)\n"
     ]
    }
   ],
   "source": [
    "model_name = \"efficientnetv2-b4\"\n",
    "model_handle_map = {'efficientnetv2-b4': '/kaggle/input/efficientnet/tensorflow2/b4-classification/1'}\n",
    "model_image_size_map = {\"efficientnetv2-b4\": img_size}\n",
    "\n",
    "model_handle = model_handle_map.get(model_name)\n",
    "pixels = model_image_size_map.get(model_name, img_size)\n",
    "\n",
    "print(f\"selected model path: {model_name} : {model_handle}\")\n",
    "\n",
    "IMAGE_SIZE = (pixels, pixels)\n",
    "print('input size:', IMAGE_SIZE)"
   ]
  },
  {
   "cell_type": "markdown",
   "metadata": {},
   "source": [
    "### (The units and droupout rate is randomly assigned to the layers)"
   ]
  },
  {
   "cell_type": "code",
   "execution_count": 11,
   "metadata": {
    "execution": {
     "iopub.execute_input": "2023-12-05T06:52:48.402842Z",
     "iopub.status.busy": "2023-12-05T06:52:48.402459Z",
     "iopub.status.idle": "2023-12-05T06:53:16.271451Z",
     "shell.execute_reply": "2023-12-05T06:53:16.270507Z",
     "shell.execute_reply.started": "2023-12-05T06:52:48.402808Z"
    }
   },
   "outputs": [
    {
     "name": "stdout",
     "output_type": "stream",
     "text": [
      "Model: \"sequential\"\n",
      "_________________________________________________________________\n",
      " Layer (type)                Output Shape              Param #   \n",
      "=================================================================\n",
      " keras_layer (KerasLayer)    (None, 1000)              19466816  \n",
      "                                                                 \n",
      " dense (Dense)               (None, 512)               512512    \n",
      "                                                                 \n",
      " batch_normalization (Batch  (None, 512)               2048      \n",
      " Normalization)                                                  \n",
      "                                                                 \n",
      " activation (Activation)     (None, 512)               0         \n",
      "                                                                 \n",
      " dropout (Dropout)           (None, 512)               0         \n",
      "                                                                 \n",
      " dense_1 (Dense)             (None, 256)               131328    \n",
      "                                                                 \n",
      " batch_normalization_1 (Bat  (None, 256)               1024      \n",
      " chNormalization)                                                \n",
      "                                                                 \n",
      " activation_1 (Activation)   (None, 256)               0         \n",
      "                                                                 \n",
      " dropout_1 (Dropout)         (None, 256)               0         \n",
      "                                                                 \n",
      " dense_2 (Dense)             (None, 128)               32896     \n",
      "                                                                 \n",
      " batch_normalization_2 (Bat  (None, 128)               512       \n",
      " chNormalization)                                                \n",
      "                                                                 \n",
      " activation_2 (Activation)   (None, 128)               0         \n",
      "                                                                 \n",
      " dropout_2 (Dropout)         (None, 128)               0         \n",
      "                                                                 \n",
      " dense_3 (Dense)             (None, 64)                8256      \n",
      "                                                                 \n",
      " batch_normalization_3 (Bat  (None, 64)                256       \n",
      " chNormalization)                                                \n",
      "                                                                 \n",
      " activation_3 (Activation)   (None, 64)                0         \n",
      "                                                                 \n",
      " dropout_3 (Dropout)         (None, 64)                0         \n",
      "                                                                 \n",
      " dense_4 (Dense)             (None, 32)                2080      \n",
      "                                                                 \n",
      " batch_normalization_4 (Bat  (None, 32)                128       \n",
      " chNormalization)                                                \n",
      "                                                                 \n",
      " activation_4 (Activation)   (None, 32)                0         \n",
      "                                                                 \n",
      " dropout_4 (Dropout)         (None, 32)                0         \n",
      "                                                                 \n",
      " dense_5 (Dense)             (None, 512)               16896     \n",
      "                                                                 \n",
      " batch_normalization_5 (Bat  (None, 512)               2048      \n",
      " chNormalization)                                                \n",
      "                                                                 \n",
      " activation_5 (Activation)   (None, 512)               0         \n",
      "                                                                 \n",
      " dropout_5 (Dropout)         (None, 512)               0         \n",
      "                                                                 \n",
      " dense_6 (Dense)             (None, 256)               131328    \n",
      "                                                                 \n",
      " batch_normalization_6 (Bat  (None, 256)               1024      \n",
      " chNormalization)                                                \n",
      "                                                                 \n",
      " activation_6 (Activation)   (None, 256)               0         \n",
      "                                                                 \n",
      " dropout_6 (Dropout)         (None, 256)               0         \n",
      "                                                                 \n",
      " dense_7 (Dense)             (None, 128)               32896     \n",
      "                                                                 \n",
      " batch_normalization_7 (Bat  (None, 128)               512       \n",
      " chNormalization)                                                \n",
      "                                                                 \n",
      " activation_7 (Activation)   (None, 128)               0         \n",
      "                                                                 \n",
      " dropout_7 (Dropout)         (None, 128)               0         \n",
      "                                                                 \n",
      " dense_8 (Dense)             (None, 64)                8256      \n",
      "                                                                 \n",
      " batch_normalization_8 (Bat  (None, 64)                256       \n",
      " chNormalization)                                                \n",
      "                                                                 \n",
      " activation_8 (Activation)   (None, 64)                0         \n",
      "                                                                 \n",
      " dropout_8 (Dropout)         (None, 64)                0         \n",
      "                                                                 \n",
      " dense_9 (Dense)             (None, 32)                2080      \n",
      "                                                                 \n",
      " batch_normalization_9 (Bat  (None, 32)                128       \n",
      " chNormalization)                                                \n",
      "                                                                 \n",
      " activation_9 (Activation)   (None, 32)                0         \n",
      "                                                                 \n",
      " dropout_9 (Dropout)         (None, 32)                0         \n",
      "                                                                 \n",
      " dense_10 (Dense)            (None, 100)               3300      \n",
      "                                                                 \n",
      "=================================================================\n",
      "Total params: 20356580 (77.65 MB)\n",
      "Trainable params: 20227412 (77.16 MB)\n",
      "Non-trainable params: 129168 (504.56 KB)\n",
      "_________________________________________________________________\n"
     ]
    }
   ],
   "source": [
    "import tensorflow_hub as hub\n",
    "\n",
    "model = tf.keras.Sequential([\n",
    "    # explicitly define the input shape: (250, 250, 3)\n",
    "    tf.keras.layers.InputLayer(input_shape=IMAGE_SIZE + (3,)),\n",
    "    \n",
    "    # set trainable = True for fine tune\n",
    "    hub.KerasLayer(model_handle, trainable = True),\n",
    "    \n",
    "    # pooling and flaten layers are skipped in this version of pretrained model loading structure\n",
    "    \n",
    "    # dense layer 1\n",
    "    tf.keras.layers.Dense(units=512),\n",
    "    tf.keras.layers.BatchNormalization(),\n",
    "    tf.keras.layers.Activation(\"relu\"),\n",
    "    tf.keras.layers.Dropout(0.5),\n",
    "    \n",
    "    # dense layer 2\n",
    "    tf.keras.layers.Dense(units=256),\n",
    "    tf.keras.layers.BatchNormalization(),\n",
    "    tf.keras.layers.Activation(\"relu\"),\n",
    "    tf.keras.layers.Dropout(0.5),\n",
    "    \n",
    "    # dense layer 3\n",
    "    tf.keras.layers.Dense(units=128),\n",
    "    tf.keras.layers.BatchNormalization(),\n",
    "    tf.keras.layers.Activation(\"relu\"),\n",
    "    tf.keras.layers.Dropout(0.5),\n",
    "    \n",
    "    # dense layer 4\n",
    "    tf.keras.layers.Dense(units=64),\n",
    "    tf.keras.layers.BatchNormalization(),\n",
    "    tf.keras.layers.Activation(\"relu\"),\n",
    "    tf.keras.layers.Dropout(0.5),\n",
    "    \n",
    "    # dense layer 5\n",
    "    tf.keras.layers.Dense(units=32),\n",
    "    tf.keras.layers.BatchNormalization(),\n",
    "    tf.keras.layers.Activation(\"relu\"),\n",
    "    tf.keras.layers.Dropout(0.5),\n",
    "    \n",
    "    # dense layer 6\n",
    "    tf.keras.layers.Dense(units=512),\n",
    "    tf.keras.layers.BatchNormalization(),\n",
    "    tf.keras.layers.Activation(\"leaky_relu\"),\n",
    "    tf.keras.layers.Dropout(0.5),\n",
    "    \n",
    "    # dense layer 7\n",
    "    tf.keras.layers.Dense(units=256),\n",
    "    tf.keras.layers.BatchNormalization(),\n",
    "    tf.keras.layers.Activation(\"leaky_relu\"),\n",
    "    tf.keras.layers.Dropout(0.6),\n",
    "    \n",
    "    # dense layer 8\n",
    "    tf.keras.layers.Dense(units=128),\n",
    "    tf.keras.layers.BatchNormalization(),\n",
    "    tf.keras.layers.Activation(\"leaky_relu\"),\n",
    "    tf.keras.layers.Dropout(0.7),\n",
    "    \n",
    "    # dense layer 9\n",
    "    tf.keras.layers.Dense(units=64),\n",
    "    tf.keras.layers.BatchNormalization(),\n",
    "    tf.keras.layers.Activation(\"leaky_relu\"),\n",
    "    tf.keras.layers.Dropout(0.25),\n",
    "    \n",
    "    # dense layer 10\n",
    "    tf.keras.layers.Dense(units=32),\n",
    "    tf.keras.layers.BatchNormalization(),\n",
    "    tf.keras.layers.Activation(\"leaky_relu\"),\n",
    "    tf.keras.layers.Dropout(0.25),\n",
    "    \n",
    "    # dense layer 6, output layer\n",
    "    tf.keras.layers.Dense(units=100, activation='softmax') # we view the 100 Pawpularity score as 100 categories\n",
    "])\n",
    "model.build((None,)+IMAGE_SIZE+(3,))\n",
    "\n",
    "# check the model structure\n",
    "model.summary()"
   ]
  },
  {
   "cell_type": "code",
   "execution_count": 12,
   "metadata": {
    "execution": {
     "iopub.execute_input": "2023-12-05T06:53:22.444587Z",
     "iopub.status.busy": "2023-12-05T06:53:22.444213Z",
     "iopub.status.idle": "2023-12-05T06:53:22.468054Z",
     "shell.execute_reply": "2023-12-05T06:53:22.467205Z",
     "shell.execute_reply.started": "2023-12-05T06:53:22.444557Z"
    }
   },
   "outputs": [],
   "source": [
    "# compile the model, using 'categorical_crossentropy' as loss function\n",
    "# since this version is dealing with classification problem in multi outcomes\n",
    "model.compile(optimizer='nadam',\n",
    "              loss='categorical_crossentropy',\n",
    "              metrics=[keras.metrics.CategoricalCrossentropy()])"
   ]
  },
  {
   "cell_type": "code",
   "execution_count": 13,
   "metadata": {
    "execution": {
     "iopub.execute_input": "2023-12-05T06:53:24.919825Z",
     "iopub.status.busy": "2023-12-05T06:53:24.919428Z",
     "iopub.status.idle": "2023-12-05T06:53:24.924267Z",
     "shell.execute_reply": "2023-12-05T06:53:24.923364Z",
     "shell.execute_reply.started": "2023-12-05T06:53:24.919792Z"
    }
   },
   "outputs": [],
   "source": [
    "# define the early stopping callback\n",
    "early_stopping = EarlyStopping(monitor='val_loss',\n",
    "                               patience=5,\n",
    "                               restore_best_weights=True)"
   ]
  },
  {
   "cell_type": "markdown",
   "metadata": {},
   "source": [
    "### In the model training phase, we only extract epochs from 8-30 and set early stop to avoid overfitting  \n",
    "We did this by setting initial_epoch to get more stable outcome"
   ]
  },
  {
   "cell_type": "code",
   "execution_count": 14,
   "metadata": {
    "execution": {
     "iopub.execute_input": "2023-12-05T06:53:45.538930Z",
     "iopub.status.busy": "2023-12-05T06:53:45.538100Z",
     "iopub.status.idle": "2023-12-05T07:50:47.698065Z",
     "shell.execute_reply": "2023-12-05T07:50:47.697251Z",
     "shell.execute_reply.started": "2023-12-05T06:53:45.538896Z"
    }
   },
   "outputs": [
    {
     "name": "stdout",
     "output_type": "stream",
     "text": [
      "Epoch 8/30\n",
      "247/247 [==============================] - 312s 582ms/step - loss: 4.8170 - categorical_crossentropy: 4.5373 - val_loss: 4.6187 - val_categorical_crossentropy: 4.3359\n",
      "Epoch 9/30\n",
      "247/247 [==============================] - 140s 567ms/step - loss: 4.6332 - categorical_crossentropy: 4.3491 - val_loss: 4.4987 - val_categorical_crossentropy: 4.2134\n",
      "Epoch 10/30\n",
      "247/247 [==============================] - 141s 570ms/step - loss: 4.5680 - categorical_crossentropy: 4.2817 - val_loss: 4.4888 - val_categorical_crossentropy: 4.2017\n",
      "Epoch 11/30\n",
      "247/247 [==============================] - 141s 571ms/step - loss: 4.5461 - categorical_crossentropy: 4.2588 - val_loss: 4.4888 - val_categorical_crossentropy: 4.2014\n",
      "Epoch 12/30\n",
      "247/247 [==============================] - 141s 571ms/step - loss: 4.5316 - categorical_crossentropy: 4.2436 - val_loss: 4.4867 - val_categorical_crossentropy: 4.1991\n",
      "Epoch 13/30\n",
      "247/247 [==============================] - 141s 571ms/step - loss: 4.5162 - categorical_crossentropy: 4.2287 - val_loss: 4.4962 - val_categorical_crossentropy: 4.2092\n",
      "Epoch 14/30\n",
      "247/247 [==============================] - 142s 572ms/step - loss: 4.5186 - categorical_crossentropy: 4.2318 - val_loss: 4.4904 - val_categorical_crossentropy: 4.2046\n",
      "Epoch 15/30\n",
      "247/247 [==============================] - 141s 568ms/step - loss: 4.5082 - categorical_crossentropy: 4.2243 - val_loss: 4.4837 - val_categorical_crossentropy: 4.2010\n",
      "Epoch 16/30\n",
      "247/247 [==============================] - 142s 572ms/step - loss: 4.5034 - categorical_crossentropy: 4.2226 - val_loss: 4.4795 - val_categorical_crossentropy: 4.2010\n",
      "Epoch 17/30\n",
      "247/247 [==============================] - 142s 572ms/step - loss: 4.4911 - categorical_crossentropy: 4.2149 - val_loss: 4.4729 - val_categorical_crossentropy: 4.1988\n",
      "Epoch 18/30\n",
      "247/247 [==============================] - 142s 571ms/step - loss: 4.4884 - categorical_crossentropy: 4.2164 - val_loss: 4.4689 - val_categorical_crossentropy: 4.1987\n",
      "Epoch 19/30\n",
      "247/247 [==============================] - 141s 569ms/step - loss: 4.4778 - categorical_crossentropy: 4.2103 - val_loss: 4.4635 - val_categorical_crossentropy: 4.1986\n",
      "Epoch 20/30\n",
      "247/247 [==============================] - 141s 569ms/step - loss: 4.4743 - categorical_crossentropy: 4.2121 - val_loss: 4.4616 - val_categorical_crossentropy: 4.2022\n",
      "Epoch 21/30\n",
      "247/247 [==============================] - 141s 567ms/step - loss: 4.4646 - categorical_crossentropy: 4.2081 - val_loss: 4.4539 - val_categorical_crossentropy: 4.2003\n",
      "Epoch 22/30\n",
      "247/247 [==============================] - 140s 567ms/step - loss: 4.4613 - categorical_crossentropy: 4.2110 - val_loss: 4.4484 - val_categorical_crossentropy: 4.2013\n",
      "Epoch 23/30\n",
      "247/247 [==============================] - 140s 565ms/step - loss: 4.4464 - categorical_crossentropy: 4.2025 - val_loss: 4.4410 - val_categorical_crossentropy: 4.2007\n",
      "Epoch 24/30\n",
      "247/247 [==============================] - 144s 581ms/step - loss: 4.4424 - categorical_crossentropy: 4.2055 - val_loss: 4.4356 - val_categorical_crossentropy: 4.2020\n",
      "Epoch 25/30\n",
      "247/247 [==============================] - 142s 573ms/step - loss: 4.4366 - categorical_crossentropy: 4.2070 - val_loss: 4.4237 - val_categorical_crossentropy: 4.1982\n",
      "Epoch 26/30\n",
      "247/247 [==============================] - 142s 571ms/step - loss: 4.4269 - categorical_crossentropy: 4.2054 - val_loss: 4.4173 - val_categorical_crossentropy: 4.2001\n",
      "Epoch 27/30\n",
      "247/247 [==============================] - 142s 572ms/step - loss: 4.4205 - categorical_crossentropy: 4.2074 - val_loss: 4.4060 - val_categorical_crossentropy: 4.1970\n",
      "Epoch 28/30\n",
      "247/247 [==============================] - 141s 568ms/step - loss: 4.4112 - categorical_crossentropy: 4.2051 - val_loss: 4.4085 - val_categorical_crossentropy: 4.2062\n",
      "Epoch 29/30\n",
      "247/247 [==============================] - 142s 575ms/step - loss: 4.4054 - categorical_crossentropy: 4.2066 - val_loss: 4.3917 - val_categorical_crossentropy: 4.1968\n",
      "Epoch 30/30\n",
      "247/247 [==============================] - 141s 568ms/step - loss: 4.3940 - categorical_crossentropy: 4.2029 - val_loss: 4.3835 - val_categorical_crossentropy: 4.1966\n"
     ]
    }
   ],
   "source": [
    "# train the model\n",
    "model.fit(train_generator, \n",
    "          steps_per_epoch = len(X_train) // batch_size, \n",
    "          epochs=30, \n",
    "          initial_epoch = 7,\n",
    "          validation_data=val_generator, \n",
    "          validation_steps = len(X_val) // batch_size,\n",
    "          callbacks=[early_stopping])"
   ]
  },
  {
   "cell_type": "markdown",
   "metadata": {},
   "source": [
    "### Save the model for future useage"
   ]
  },
  {
   "cell_type": "code",
   "execution_count": 15,
   "metadata": {
    "execution": {
     "iopub.execute_input": "2023-12-05T07:52:04.946244Z",
     "iopub.status.busy": "2023-12-05T07:52:04.945570Z",
     "iopub.status.idle": "2023-12-05T07:52:08.019985Z",
     "shell.execute_reply": "2023-12-05T07:52:08.019130Z",
     "shell.execute_reply.started": "2023-12-05T07:52:04.946208Z"
    }
   },
   "outputs": [],
   "source": [
    "# save the entire model as a `.keras` zip archive\n",
    "model.save('/kaggle/working/1204_efficientnetv2-b4_8-30_epochs_early_stop_classification.keras')"
   ]
  },
  {
   "cell_type": "markdown",
   "metadata": {},
   "source": [
    "### Visualize training and validation loss"
   ]
  },
  {
   "cell_type": "code",
   "execution_count": 16,
   "metadata": {
    "execution": {
     "iopub.execute_input": "2023-12-05T07:52:57.188878Z",
     "iopub.status.busy": "2023-12-05T07:52:57.188278Z",
     "iopub.status.idle": "2023-12-05T07:52:57.802912Z",
     "shell.execute_reply": "2023-12-05T07:52:57.801716Z",
     "shell.execute_reply.started": "2023-12-05T07:52:57.188846Z"
    }
   },
   "outputs": [
    {
     "data": {
      "image/png": "[encoded data removed]",
      "text/plain": [
       "<Figure size 640x480 with 1 Axes>"
      ]
     },
     "metadata": {},
     "output_type": "display_data"
    },
    {
     "data": {
      "image/png": "[encoded data removed]",
      "text/plain": [
       "<Figure size 640x480 with 1 Axes>"
      ]
     },
     "metadata": {},
     "output_type": "display_data"
    }
   ],
   "source": [
    "# plot the train and val curve\n",
    "\n",
    "rmse = history.history['categorical_crossentropy']\n",
    "val_rmse = history.history['val_categorical_crossentropy']\n",
    "loss = history.history['loss']\n",
    "val_loss = history.history['val_loss']\n",
    "\n",
    "epochs = range(1, len(rmse) + 1)\n",
    "\n",
    "#Train and validation accuracy\n",
    "plt.plot(epochs, rmse, 'b', label='Training RMSE')\n",
    "plt.plot(epochs, val_rmse, 'r', label='Validation RMSE')\n",
    "plt.title('Training and Validation RMSE')\n",
    "plt.xlabel('epochs')\n",
    "plt.ylabel('RMSE')\n",
    "plt.legend()\n",
    "\n",
    "plt.figure()\n",
    "#Train and validation loss\n",
    "plt.plot(epochs, loss, 'b', label='Training loss')\n",
    "plt.plot(epochs, val_loss, 'r', label='Validation loss')\n",
    "plt.title('Training and Validation loss')\n",
    "plt.xlabel('epochs')\n",
    "plt.ylabel('RMSE')\n",
    "plt.legend()\n",
    "\n",
    "plt.show()"
   ]
  },
  {
   "cell_type": "markdown",
   "metadata": {},
   "source": [
    "### Summary for model training\n",
    "Loss in training set and validation set decreased gradually in the similar patterns as training epochs increase, and it wasn't interrupted by early stopping.  "
   ]
  },
  {
   "cell_type": "markdown",
   "metadata": {},
   "source": [
    "# Do prediciton on testing set"
   ]
  },
  {
   "cell_type": "code",
   "execution_count": null,
   "metadata": {},
   "outputs": [],
   "source": [
    "# load the model for next time\n",
    "reloaded_model = tf.keras.models.load_model('/kaggle/working/1204_efficientnetv2-b4_8-30_epochs_early_stop_classification.keras')"
   ]
  },
  {
   "cell_type": "markdown",
   "metadata": {},
   "source": [
    "### Read in testing images"
   ]
  },
  {
   "cell_type": "code",
   "execution_count": 15,
   "metadata": {
    "execution": {
     "iopub.execute_input": "2023-12-05T14:53:51.262887Z",
     "iopub.status.busy": "2023-12-05T14:53:51.262505Z",
     "iopub.status.idle": "2023-12-05T14:53:51.274059Z",
     "shell.execute_reply": "2023-12-05T14:53:51.272573Z",
     "shell.execute_reply.started": "2023-12-05T14:53:51.262859Z"
    }
   },
   "outputs": [],
   "source": [
    "test_dir = '/kaggle/input/petfinder-pawpularity-score/test'\n",
    "test_imgs = ['/kaggle/input/petfinder-pawpularity-score/test/{}'.format(i) for i in os.listdir(test_dir)] # get test images"
   ]
  },
  {
   "cell_type": "code",
   "execution_count": 18,
   "metadata": {
    "execution": {
     "iopub.execute_input": "2023-12-05T14:54:12.540174Z",
     "iopub.status.busy": "2023-12-05T14:54:12.539503Z",
     "iopub.status.idle": "2023-12-05T14:54:12.559489Z",
     "shell.execute_reply": "2023-12-05T14:54:12.558794Z",
     "shell.execute_reply.started": "2023-12-05T14:54:12.540149Z"
    }
   },
   "outputs": [],
   "source": [
    "# process the test set\n",
    "X_test = read_and_process_image_test(test_imgs) \n",
    "\n",
    "# convert list to numpy array\n",
    "X_test = np.array(X_test)\n",
    "\n",
    "# augmentation\n",
    "test_datagen = ImageDataGenerator(rescale=1./255)\n",
    "test_generator = test_datagen.flow(X_test) # after rescaling for the colors"
   ]
  },
  {
   "cell_type": "markdown",
   "metadata": {},
   "source": [
    "### Set up Id for DataFrame building"
   ]
  },
  {
   "cell_type": "code",
   "execution_count": 19,
   "metadata": {
    "execution": {
     "iopub.execute_input": "2023-12-05T14:54:12.561066Z",
     "iopub.status.busy": "2023-12-05T14:54:12.560816Z",
     "iopub.status.idle": "2023-12-05T14:54:12.566373Z",
     "shell.execute_reply": "2023-12-05T14:54:12.565371Z",
     "shell.execute_reply.started": "2023-12-05T14:54:12.561044Z"
    }
   },
   "outputs": [],
   "source": [
    "Id = []\n",
    "\n",
    "for i in range(len(test_imgs)):\n",
    "    id = test_imgs[i].split('test/')[1].split('.')[0]\n",
    "    Id.append(id)"
   ]
  },
  {
   "cell_type": "code",
   "execution_count": 20,
   "metadata": {
    "execution": {
     "iopub.execute_input": "2023-12-05T14:54:12.568857Z",
     "iopub.status.busy": "2023-12-05T14:54:12.568517Z",
     "iopub.status.idle": "2023-12-05T14:54:12.578781Z",
     "shell.execute_reply": "2023-12-05T14:54:12.577856Z",
     "shell.execute_reply.started": "2023-12-05T14:54:12.568832Z"
    }
   },
   "outputs": [
    {
     "data": {
      "text/plain": [
       "['c978013571258ed6d4637f6e8cc9d6a3',\n",
       " '4e429cead1848a298432a0acad014c9d',\n",
       " '43a2262d7738e3d420d453815151079e',\n",
       " '8f49844c382931444e68dffbe20228f4',\n",
       " '4128bae22183829d2b5fea10effdb0c3',\n",
       " '80bc3ccafcc51b66303c2c263aa38486',\n",
       " 'e0de453c1bffc20c22b072b34b54e50f',\n",
       " 'b03f7041962238a7c9d6537e22f9b017']"
      ]
     },
     "execution_count": 20,
     "metadata": {},
     "output_type": "execute_result"
    }
   ],
   "source": [
    "Id"
   ]
  },
  {
   "cell_type": "markdown",
   "metadata": {},
   "source": [
    "### Predict on test set"
   ]
  },
  {
   "cell_type": "code",
   "execution_count": 22,
   "metadata": {
    "execution": {
     "iopub.execute_input": "2023-12-05T07:55:33.818953Z",
     "iopub.status.busy": "2023-12-05T07:55:33.818569Z",
     "iopub.status.idle": "2023-12-05T07:55:36.840042Z",
     "shell.execute_reply": "2023-12-05T07:55:36.839104Z",
     "shell.execute_reply.started": "2023-12-05T07:55:33.818920Z"
    }
   },
   "outputs": [
    {
     "name": "stdout",
     "output_type": "stream",
     "text": [
      "1/1 [==============================] - 3s 3s/step\n"
     ]
    }
   ],
   "source": [
    "outcome = reloaded_model.predict(test_generator)"
   ]
  },
  {
   "cell_type": "markdown",
   "metadata": {},
   "source": [
    "### There're 8 images in test set, and for each image we generated the probability for it to be scored as 1 to 100"
   ]
  },
  {
   "cell_type": "code",
   "execution_count": 40,
   "metadata": {
    "execution": {
     "iopub.execute_input": "2023-12-05T08:05:46.766422Z",
     "iopub.status.busy": "2023-12-05T08:05:46.766038Z",
     "iopub.status.idle": "2023-12-05T08:05:46.772665Z",
     "shell.execute_reply": "2023-12-05T08:05:46.771634Z",
     "shell.execute_reply.started": "2023-12-05T08:05:46.766391Z"
    }
   },
   "outputs": [
    {
     "data": {
      "text/plain": [
       "8"
      ]
     },
     "execution_count": 40,
     "metadata": {},
     "output_type": "execute_result"
    }
   ],
   "source": [
    "len(outcome) # we only have 8 images in test set"
   ]
  },
  {
   "cell_type": "code",
   "execution_count": 42,
   "metadata": {
    "execution": {
     "iopub.execute_input": "2023-12-05T08:06:05.600746Z",
     "iopub.status.busy": "2023-12-05T08:06:05.599873Z",
     "iopub.status.idle": "2023-12-05T08:06:05.608570Z",
     "shell.execute_reply": "2023-12-05T08:06:05.607506Z",
     "shell.execute_reply.started": "2023-12-05T08:06:05.600704Z"
    }
   },
   "outputs": [
    {
     "data": {
      "text/plain": [
       "100"
      ]
     },
     "execution_count": 42,
     "metadata": {},
     "output_type": "execute_result"
    }
   ],
   "source": [
    "len(outcome[0]) # and for each image, we generate the probability for it to be scored as 1 to 100, thus having length = 100"
   ]
  },
  {
   "cell_type": "markdown",
   "metadata": {},
   "source": [
    "### Construct the Pawpularity array to record the scores"
   ]
  },
  {
   "cell_type": "code",
   "execution_count": 43,
   "metadata": {
    "execution": {
     "iopub.execute_input": "2023-12-05T08:06:28.150652Z",
     "iopub.status.busy": "2023-12-05T08:06:28.150261Z",
     "iopub.status.idle": "2023-12-05T08:06:28.159858Z",
     "shell.execute_reply": "2023-12-05T08:06:28.158662Z",
     "shell.execute_reply.started": "2023-12-05T08:06:28.150625Z"
    }
   },
   "outputs": [],
   "source": [
    "Pawpularity = []\n",
    "\n",
    "for i in range(len(test_imgs)):\n",
    "    pawpularity = 0\n",
    "    for j in range(100):\n",
    "        pawpularity = pawpularity + outcome[i][j]*(j+1)\n",
    "    Pawpularity.append(pawpularity)"
   ]
  },
  {
   "cell_type": "code",
   "execution_count": 44,
   "metadata": {
    "execution": {
     "iopub.execute_input": "2023-12-05T08:06:30.952135Z",
     "iopub.status.busy": "2023-12-05T08:06:30.951767Z",
     "iopub.status.idle": "2023-12-05T08:06:30.958224Z",
     "shell.execute_reply": "2023-12-05T08:06:30.957397Z",
     "shell.execute_reply.started": "2023-12-05T08:06:30.952107Z"
    }
   },
   "outputs": [
    {
     "data": {
      "text/plain": [
       "[38.141670293029165,\n",
       " 38.141670293029165,\n",
       " 38.1416702727729,\n",
       " 38.141670293029165,\n",
       " 38.1416702727729,\n",
       " 38.1416702727729,\n",
       " 38.141670293029165,\n",
       " 38.1416702727729]"
      ]
     },
     "execution_count": 44,
     "metadata": {},
     "output_type": "execute_result"
    }
   ],
   "source": [
    "Pawpularity"
   ]
  },
  {
   "cell_type": "markdown",
   "metadata": {},
   "source": [
    "# Metadata\n",
    "We also combined the metadata to see if the performance could be improved  \n",
    "\n",
    "We regress Pawpularity scores on features in the table to train an SVR model then do prediction on test set,  \n",
    "then we combine these scores with the Pawpularity scores generated from CNN by taking average"
   ]
  },
  {
   "cell_type": "code",
   "execution_count": 8,
   "metadata": {
    "execution": {
     "iopub.execute_input": "2023-12-05T14:52:07.399127Z",
     "iopub.status.busy": "2023-12-05T14:52:07.398800Z",
     "iopub.status.idle": "2023-12-05T14:52:07.436757Z",
     "shell.execute_reply": "2023-12-05T14:52:07.435933Z",
     "shell.execute_reply.started": "2023-12-05T14:52:07.399101Z"
    }
   },
   "outputs": [],
   "source": [
    "df = pd.read_csv('/kaggle/input/petfinder-pawpularity-score/train.csv')\n",
    "df = df.drop(columns = 'Id')\n",
    "\n",
    "X_train_SVR = df.iloc[:, 0:12]\n",
    "y_train_SVR = df.iloc[:, 12]\n",
    "\n",
    "from sklearn.model_selection import train_test_split\n",
    "X_train_svr, X_val_svr, y_train_svr, y_val_svr = train_test_split(X_train_SVR, y_train_SVR, test_size=0.2, random_state=42)"
   ]
  },
  {
   "cell_type": "markdown",
   "metadata": {},
   "source": [
    "### (This part was done in another notebook)"
   ]
  },
  {
   "cell_type": "code",
   "execution_count": null,
   "metadata": {},
   "outputs": [],
   "source": [
    "'''svr_grid = {'kernel': ['rbf'], 'C': [10, 1, 0.1], 'epsilon': [10, 1, 0.1], 'gamma': [10, 1, 0.1, 0.01]}\n",
    "svr = svm.SVR() # for svr, y is expected to have floating point values instead of integer values\n",
    "\n",
    "svr_clf = GridSearchCV(estimator = svr, param_grid = svr_grid, scoring = 'neg_root_mean_squared_error', cv = 10, refit = True)    \n",
    "svr_clf.fit(X_train_svr, y_train_svr)\n",
    "print(\"Best hyperparameters settings: \", svr_clf.best_params_)\n",
    "print('RMSE: ', -svr_clf.best_score_)'''"
   ]
  },
  {
   "cell_type": "markdown",
   "metadata": {},
   "source": [
    "### From the GridSearch in advance, we got the optimozed hyperparameters\n",
    "To save time for final auto-grading in the system, we did the GridSearch in advance in another notebook (attached in appendix)  \n",
    "\n",
    "And we got the following optimized hyperparameters:  \n",
    "{'C': 0.1, 'epsilon': 10, 'gamma': 1, 'kernel': 'rbf'}  \n",
    "RMSE:  20.644052638806244"
   ]
  },
  {
   "cell_type": "code",
   "execution_count": 9,
   "metadata": {
    "execution": {
     "iopub.execute_input": "2023-12-05T14:52:09.609272Z",
     "iopub.status.busy": "2023-12-05T14:52:09.608968Z",
     "iopub.status.idle": "2023-12-05T14:52:10.932952Z",
     "shell.execute_reply": "2023-12-05T14:52:10.931885Z",
     "shell.execute_reply.started": "2023-12-05T14:52:09.609249Z"
    }
   },
   "outputs": [
    {
     "data": {
      "text/html": [
       "<style>#sk-container-id-1 {color: black;background-color: white;}#sk-container-id-1 pre{padding: 0;}#sk-container-id-1 div.sk-toggleable {background-color: white;}#sk-container-id-1 label.sk-toggleable__label {cursor: pointer;display: block;width: 100%;margin-bottom: 0;padding: 0.3em;box-sizing: border-box;text-align: center;}#sk-container-id-1 label.sk-toggleable__label-arrow:before {content: \"▸\";float: left;margin-right: 0.25em;color: #696969;}#sk-container-id-1 label.sk-toggleable__label-arrow:hover:before {color: black;}#sk-container-id-1 div.sk-estimator:hover label.sk-toggleable__label-arrow:before {color: black;}#sk-container-id-1 div.sk-toggleable__content {max-height: 0;max-width: 0;overflow: hidden;text-align: left;background-color: #f0f8ff;}#sk-container-id-1 div.sk-toggleable__content pre {margin: 0.2em;color: black;border-radius: 0.25em;background-color: #f0f8ff;}#sk-container-id-1 input.sk-toggleable__control:checked~div.sk-toggleable__content {max-height: 200px;max-width: 100%;overflow: auto;}#sk-container-id-1 input.sk-toggleable__control:checked~label.sk-toggleable__label-arrow:before {content: \"▾\";}#sk-container-id-1 div.sk-estimator input.sk-toggleable__control:checked~label.sk-toggleable__label {background-color: #d4ebff;}#sk-container-id-1 div.sk-label input.sk-toggleable__control:checked~label.sk-toggleable__label {background-color: #d4ebff;}#sk-container-id-1 input.sk-hidden--visually {border: 0;clip: rect(1px 1px 1px 1px);clip: rect(1px, 1px, 1px, 1px);height: 1px;margin: -1px;overflow: hidden;padding: 0;position: absolute;width: 1px;}#sk-container-id-1 div.sk-estimator {font-family: monospace;background-color: #f0f8ff;border: 1px dotted black;border-radius: 0.25em;box-sizing: border-box;margin-bottom: 0.5em;}#sk-container-id-1 div.sk-estimator:hover {background-color: #d4ebff;}#sk-container-id-1 div.sk-parallel-item::after {content: \"\";width: 100%;border-bottom: 1px solid gray;flex-grow: 1;}#sk-container-id-1 div.sk-label:hover label.sk-toggleable__label {background-color: #d4ebff;}#sk-container-id-1 div.sk-serial::before {content: \"\";position: absolute;border-left: 1px solid gray;box-sizing: border-box;top: 0;bottom: 0;left: 50%;z-index: 0;}#sk-container-id-1 div.sk-serial {display: flex;flex-direction: column;align-items: center;background-color: white;padding-right: 0.2em;padding-left: 0.2em;position: relative;}#sk-container-id-1 div.sk-item {position: relative;z-index: 1;}#sk-container-id-1 div.sk-parallel {display: flex;align-items: stretch;justify-content: center;background-color: white;position: relative;}#sk-container-id-1 div.sk-item::before, #sk-container-id-1 div.sk-parallel-item::before {content: \"\";position: absolute;border-left: 1px solid gray;box-sizing: border-box;top: 0;bottom: 0;left: 50%;z-index: -1;}#sk-container-id-1 div.sk-parallel-item {display: flex;flex-direction: column;z-index: 1;position: relative;background-color: white;}#sk-container-id-1 div.sk-parallel-item:first-child::after {align-self: flex-end;width: 50%;}#sk-container-id-1 div.sk-parallel-item:last-child::after {align-self: flex-start;width: 50%;}#sk-container-id-1 div.sk-parallel-item:only-child::after {width: 0;}#sk-container-id-1 div.sk-dashed-wrapped {border: 1px dashed gray;margin: 0 0.4em 0.5em 0.4em;box-sizing: border-box;padding-bottom: 0.4em;background-color: white;}#sk-container-id-1 div.sk-label label {font-family: monospace;font-weight: bold;display: inline-block;line-height: 1.2em;}#sk-container-id-1 div.sk-label-container {text-align: center;}#sk-container-id-1 div.sk-container {/* jupyter's `normalize.less` sets `[hidden] { display: none; }` but bootstrap.min.css set `[hidden] { display: none !important; }` so we also need the `!important` here to be able to override the default hidden behavior on the sphinx rendered scikit-learn.org. See: https://github.com/scikit-learn/scikit-learn/issues/21755 */display: inline-block !important;position: relative;}#sk-container-id-1 div.sk-text-repr-fallback {display: none;}</style><div id=\"sk-container-id-1\" class=\"sk-top-container\"><div class=\"sk-text-repr-fallback\"><pre>SVR(C=0.1, epsilon=10, gamma=1)</pre><b>In a Jupyter environment, please rerun this cell to show the HTML representation or trust the notebook. <br />On GitHub, the HTML representation is unable to render, please try loading this page with nbviewer.org.</b></div><div class=\"sk-container\" hidden><div class=\"sk-item\"><div class=\"sk-estimator sk-toggleable\"><input class=\"sk-toggleable__control sk-hidden--visually\" id=\"sk-estimator-id-1\" type=\"checkbox\" checked><label for=\"sk-estimator-id-1\" class=\"sk-toggleable__label sk-toggleable__label-arrow\">SVR</label><div class=\"sk-toggleable__content\"><pre>SVR(C=0.1, epsilon=10, gamma=1)</pre></div></div></div></div></div>"
      ],
      "text/plain": [
       "SVR(C=0.1, epsilon=10, gamma=1)"
      ]
     },
     "execution_count": 9,
     "metadata": {},
     "output_type": "execute_result"
    }
   ],
   "source": [
    "from sklearn import svm\n",
    "from sklearn.model_selection import GridSearchCV\n",
    "\n",
    "svr_clf = svm.SVR(C = 0.1, epsilon = 10, gamma = 1, kernel = 'rbf') # for svr, y is expected to have floating point values instead of integer values\n",
    "svr_clf.fit(X_train_svr, y_train_svr)"
   ]
  },
  {
   "cell_type": "code",
   "execution_count": 10,
   "metadata": {
    "execution": {
     "iopub.execute_input": "2023-12-05T14:52:16.965427Z",
     "iopub.status.busy": "2023-12-05T14:52:16.965123Z",
     "iopub.status.idle": "2023-12-05T14:52:16.982260Z",
     "shell.execute_reply": "2023-12-05T14:52:16.981247Z",
     "shell.execute_reply.started": "2023-12-05T14:52:16.965403Z"
    }
   },
   "outputs": [
    {
     "data": {
      "text/plain": [
       "array([35.56403228, 35.89369024, 35.52965552, 35.4705902 , 35.51811519,\n",
       "       35.5632086 , 35.52966413, 35.38661314])"
      ]
     },
     "execution_count": 10,
     "metadata": {},
     "output_type": "execute_result"
    }
   ],
   "source": [
    "df_test = pd.read_csv('/kaggle/input/petfinder-pawpularity-score/test.csv')\n",
    "df_test = df_test.drop(columns = 'Id')\n",
    "\n",
    "# extract independent variables\n",
    "X_test_svr = df_test.iloc[:, 0:12]\n",
    "\n",
    "# generate prediction\n",
    "y_pred = svr_clf.predict(X_test_svr)\n",
    "y_pred"
   ]
  },
  {
   "cell_type": "markdown",
   "metadata": {},
   "source": [
    "# Take mean of the 2 scores generated to get the final Pawpularity scores"
   ]
  },
  {
   "cell_type": "code",
   "execution_count": 13,
   "metadata": {
    "execution": {
     "iopub.execute_input": "2023-12-05T14:53:23.605766Z",
     "iopub.status.busy": "2023-12-05T14:53:23.604820Z",
     "iopub.status.idle": "2023-12-05T14:53:23.612666Z",
     "shell.execute_reply": "2023-12-05T14:53:23.612016Z",
     "shell.execute_reply.started": "2023-12-05T14:53:23.605722Z"
    }
   },
   "outputs": [
    {
     "data": {
      "text/plain": [
       "array([36.85285129, 37.01768026, 36.8356629 , 36.80613025, 36.82989273,\n",
       "       36.85243943, 36.83566721, 36.76414171])"
      ]
     },
     "execution_count": 13,
     "metadata": {},
     "output_type": "execute_result"
    }
   ],
   "source": [
    "score = (y_pred + Pawpularity)/2\n",
    "score"
   ]
  },
  {
   "cell_type": "markdown",
   "metadata": {},
   "source": [
    "### Now let's build the dataframe to save as a csv file"
   ]
  },
  {
   "cell_type": "code",
   "execution_count": 21,
   "metadata": {
    "execution": {
     "iopub.execute_input": "2023-12-05T14:54:17.636756Z",
     "iopub.status.busy": "2023-12-05T14:54:17.636435Z",
     "iopub.status.idle": "2023-12-05T14:54:17.650534Z",
     "shell.execute_reply": "2023-12-05T14:54:17.649598Z",
     "shell.execute_reply.started": "2023-12-05T14:54:17.636732Z"
    }
   },
   "outputs": [
    {
     "data": {
      "text/html": [
       "<div>\n",
       "<style scoped>\n",
       "    .dataframe tbody tr th:only-of-type {\n",
       "        vertical-align: middle;\n",
       "    }\n",
       "\n",
       "    .dataframe tbody tr th {\n",
       "        vertical-align: top;\n",
       "    }\n",
       "\n",
       "    .dataframe thead th {\n",
       "        text-align: right;\n",
       "    }\n",
       "</style>\n",
       "<table border=\"1\" class=\"dataframe\">\n",
       "  <thead>\n",
       "    <tr style=\"text-align: right;\">\n",
       "      <th></th>\n",
       "      <th>Id</th>\n",
       "      <th>Pawpularity</th>\n",
       "    </tr>\n",
       "  </thead>\n",
       "  <tbody>\n",
       "    <tr>\n",
       "      <th>0</th>\n",
       "      <td>c978013571258ed6d4637f6e8cc9d6a3</td>\n",
       "      <td>36.852851</td>\n",
       "    </tr>\n",
       "    <tr>\n",
       "      <th>1</th>\n",
       "      <td>4e429cead1848a298432a0acad014c9d</td>\n",
       "      <td>37.017680</td>\n",
       "    </tr>\n",
       "    <tr>\n",
       "      <th>2</th>\n",
       "      <td>43a2262d7738e3d420d453815151079e</td>\n",
       "      <td>36.835663</td>\n",
       "    </tr>\n",
       "    <tr>\n",
       "      <th>3</th>\n",
       "      <td>8f49844c382931444e68dffbe20228f4</td>\n",
       "      <td>36.806130</td>\n",
       "    </tr>\n",
       "    <tr>\n",
       "      <th>4</th>\n",
       "      <td>4128bae22183829d2b5fea10effdb0c3</td>\n",
       "      <td>36.829893</td>\n",
       "    </tr>\n",
       "    <tr>\n",
       "      <th>5</th>\n",
       "      <td>80bc3ccafcc51b66303c2c263aa38486</td>\n",
       "      <td>36.852439</td>\n",
       "    </tr>\n",
       "    <tr>\n",
       "      <th>6</th>\n",
       "      <td>e0de453c1bffc20c22b072b34b54e50f</td>\n",
       "      <td>36.835667</td>\n",
       "    </tr>\n",
       "    <tr>\n",
       "      <th>7</th>\n",
       "      <td>b03f7041962238a7c9d6537e22f9b017</td>\n",
       "      <td>36.764142</td>\n",
       "    </tr>\n",
       "  </tbody>\n",
       "</table>\n",
       "</div>"
      ],
      "text/plain": [
       "                                 Id  Pawpularity\n",
       "0  c978013571258ed6d4637f6e8cc9d6a3    36.852851\n",
       "1  4e429cead1848a298432a0acad014c9d    37.017680\n",
       "2  43a2262d7738e3d420d453815151079e    36.835663\n",
       "3  8f49844c382931444e68dffbe20228f4    36.806130\n",
       "4  4128bae22183829d2b5fea10effdb0c3    36.829893\n",
       "5  80bc3ccafcc51b66303c2c263aa38486    36.852439\n",
       "6  e0de453c1bffc20c22b072b34b54e50f    36.835667\n",
       "7  b03f7041962238a7c9d6537e22f9b017    36.764142"
      ]
     },
     "execution_count": 21,
     "metadata": {},
     "output_type": "execute_result"
    }
   ],
   "source": [
    "dic = {'Id': Id, 'Pawpularity': score}\n",
    "result = pd.DataFrame(dic)\n",
    "result.head(10)"
   ]
  },
  {
   "attachments": {
    "image.png": {
     "image/png": "[encoded data removed]"
    }
   },
   "cell_type": "markdown",
   "metadata": {},
   "source": [
    "![image.png](attachment:image.png)"
   ]
  },
  {
   "cell_type": "markdown",
   "metadata": {},
   "source": [
    "### The grade we get in the end, already much better than other models we've tried"
   ]
  },
  {
   "cell_type": "code",
   "execution_count": 22,
   "metadata": {
    "execution": {
     "iopub.execute_input": "2023-12-05T14:54:23.215690Z",
     "iopub.status.busy": "2023-12-05T14:54:23.215325Z",
     "iopub.status.idle": "2023-12-05T14:54:23.222947Z",
     "shell.execute_reply": "2023-12-05T14:54:23.221592Z",
     "shell.execute_reply.started": "2023-12-05T14:54:23.215663Z"
    }
   },
   "outputs": [],
   "source": [
    "# save the DataFrame to a CSV file for submission\n",
    "result.to_csv('submission.csv', index=False)"
   ]
  },
  {
   "cell_type": "markdown",
   "metadata": {},
   "source": [
    "# This is the end of the notebook"
   ]
  }
 ],
 "metadata": {
  "colab": {
   "provenance": []
  },
  "kaggle": {
   "accelerator": "none",
   "dataSources": [
    {
     "databundleVersionId": 2684322,
     "sourceId": 25383,
     "sourceType": "competition"
    },
    {
     "datasetId": 4072304,
     "sourceId": 7071342,
     "sourceType": "datasetVersion"
    },
    {
     "datasetId": 4072333,
     "sourceId": 7071376,
     "sourceType": "datasetVersion"
    },
    {
     "datasetId": 4072361,
     "sourceId": 7071409,
     "sourceType": "datasetVersion"
    },
    {
     "datasetId": 4082943,
     "sourceId": 7086421,
     "sourceType": "datasetVersion"
    },
    {
     "datasetId": 4095069,
     "sourceId": 7103599,
     "sourceType": "datasetVersion"
    },
    {
     "datasetId": 4095093,
     "sourceId": 7103629,
     "sourceType": "datasetVersion"
    },
    {
     "modelInstanceId": 846,
     "sourceId": 992,
     "sourceType": "modelInstanceVersion"
    },
    {
     "modelInstanceId": 847,
     "sourceId": 993,
     "sourceType": "modelInstanceVersion"
    },
    {
     "isSourceIdPinned": true,
     "modelInstanceId": 1919,
     "sourceId": 2653,
     "sourceType": "modelInstanceVersion"
    },
    {
     "modelInstanceId": 1920,
     "sourceId": 2654,
     "sourceType": "modelInstanceVersion"
    },
    {
     "modelInstanceId": 1926,
     "sourceId": 2660,
     "sourceType": "modelInstanceVersion"
    }
   ],
   "dockerImageVersionId": 30587,
   "isGpuEnabled": false,
   "isInternetEnabled": false,
   "language": "python",
   "sourceType": "notebook"
  },
  "kernelspec": {
   "display_name": "Python 3",
   "language": "python",
   "name": "python3"
  },
  "language_info": {
   "codemirror_mode": {
    "name": "ipython",
    "version": 3
   },
   "file_extension": ".py",
   "mimetype": "text/x-python",
   "name": "python",
   "nbconvert_exporter": "python",
   "pygments_lexer": "ipython3",
   "version": "3.8.8"
  }
 },
 "nbformat": 4,
 "nbformat_minor": 4
}
