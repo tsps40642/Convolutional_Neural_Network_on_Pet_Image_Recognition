{
 "cells": [
  {
   "cell_type": "markdown",
   "metadata": {},
   "source": [
    "# This notebook is doing regression on Pawpularity score using train.csv\n",
    "To save time for final auto-grading in the system, we did the GridSearch in advance in this notebook  \n",
    "We regress Pawpularity scores on feature data and train the optimized SVR model "
   ]
  },
  {
   "cell_type": "code",
   "execution_count": null,
   "metadata": {},
   "outputs": [],
   "source": [
    "import numpy as np\n",
    "import pandas as pd\n",
    "\n",
    "from sklearn.model_selection import train_test_split\n",
    "from sklearn import svm\n",
    "from sklearn.model_selection import GridSearchCV"
   ]
  },
  {
   "cell_type": "markdown",
   "metadata": {},
   "source": [
    "### Load in the train.csv"
   ]
  },
  {
   "cell_type": "code",
   "execution_count": 13,
   "metadata": {},
   "outputs": [],
   "source": [
    "df = pd.read_csv('train.csv')\n",
    "df = df.drop(columns = 'Id')\n",
    "\n",
    "# extract the dependent and target variables\n",
    "X_train_SVR = df.iloc[:, 0:12]\n",
    "y_train_SVR = df.iloc[:, 12]\n",
    "\n",
    "# training-validation split\n",
    "X_train_svr, X_val_svr, y_train_svr, y_val_svr = train_test_split(X_train_SVR, y_train_SVR, test_size=0.2, random_state=42)"
   ]
  },
  {
   "cell_type": "markdown",
   "metadata": {},
   "source": [
    "### Define the hyperparameter grid and SVR"
   ]
  },
  {
   "cell_type": "code",
   "execution_count": null,
   "metadata": {},
   "outputs": [],
   "source": [
    "# define the hyperparameter grid\n",
    "svr_grid = {'kernel': ['rbf'], 'C': [10, 1, 0.1], 'epsilon': [10, 1, 0.1], 'gamma': [10, 1, 0.1, 0.01]}"
   ]
  },
  {
   "cell_type": "code",
   "execution_count": 15,
   "metadata": {},
   "outputs": [],
   "source": [
    "# define the svm regressor: SVR\n",
    "svr = svm.SVR() # for svr, y is expected to have floating point values instead of integer values"
   ]
  },
  {
   "cell_type": "markdown",
   "metadata": {},
   "source": [
    "### Do GridSearch"
   ]
  },
  {
   "cell_type": "code",
   "execution_count": 16,
   "metadata": {},
   "outputs": [
    {
     "name": "stdout",
     "output_type": "stream",
     "text": [
      "Best hyperparameters settings:  {'C': 0.1, 'epsilon': 10, 'gamma': 1, 'kernel': 'rbf'}\n",
      "RMSE:  20.644052638806244\n"
     ]
    }
   ],
   "source": [
    "svr_clf = GridSearchCV(estimator = svr, param_grid = svr_grid, scoring = 'neg_root_mean_squared_error', cv = 10, refit = True)    \n",
    "svr_clf.fit(X_train_svr, y_train_svr)\n",
    "print(\"Best hyperparameters settings: \", svr_clf.best_params_)\n",
    "print('RMSE: ', -svr_clf.best_score_)"
   ]
  },
  {
   "cell_type": "markdown",
   "metadata": {},
   "source": [
    "# This is the end of the notebook (result should be used in other notebooks)"
   ]
  }
 ],
 "metadata": {
  "colab": {
   "provenance": []
  },
  "kaggle": {
   "accelerator": "gpu",
   "dataSources": [
    {
     "databundleVersionId": 2684322,
     "sourceId": 25383,
     "sourceType": "competition"
    },
    {
     "datasetId": 4072304,
     "sourceId": 7071342,
     "sourceType": "datasetVersion"
    },
    {
     "datasetId": 4072333,
     "sourceId": 7071376,
     "sourceType": "datasetVersion"
    },
    {
     "datasetId": 4072361,
     "sourceId": 7071409,
     "sourceType": "datasetVersion"
    },
    {
     "datasetId": 4082943,
     "sourceId": 7086421,
     "sourceType": "datasetVersion"
    },
    {
     "datasetId": 4095069,
     "sourceId": 7103599,
     "sourceType": "datasetVersion"
    },
    {
     "datasetId": 4095093,
     "sourceId": 7103629,
     "sourceType": "datasetVersion"
    },
    {
     "modelInstanceId": 846,
     "sourceId": 992,
     "sourceType": "modelInstanceVersion"
    },
    {
     "modelInstanceId": 847,
     "sourceId": 993,
     "sourceType": "modelInstanceVersion"
    },
    {
     "isSourceIdPinned": true,
     "modelInstanceId": 1919,
     "sourceId": 2653,
     "sourceType": "modelInstanceVersion"
    },
    {
     "modelInstanceId": 1920,
     "sourceId": 2654,
     "sourceType": "modelInstanceVersion"
    },
    {
     "modelInstanceId": 1926,
     "sourceId": 2660,
     "sourceType": "modelInstanceVersion"
    }
   ],
   "dockerImageVersionId": 30587,
   "isGpuEnabled": true,
   "isInternetEnabled": false,
   "language": "python",
   "sourceType": "notebook"
  },
  "kernelspec": {
   "display_name": "Python 3",
   "language": "python",
   "name": "python3"
  },
  "language_info": {
   "codemirror_mode": {
    "name": "ipython",
    "version": 3
   },
   "file_extension": ".py",
   "mimetype": "text/x-python",
   "name": "python",
   "nbconvert_exporter": "python",
   "pygments_lexer": "ipython3",
   "version": "3.8.8"
  }
 },
 "nbformat": 4,
 "nbformat_minor": 4
}
